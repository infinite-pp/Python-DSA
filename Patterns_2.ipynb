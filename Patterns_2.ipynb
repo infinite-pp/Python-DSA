{
 "cells": [
  {
   "cell_type": "markdown",
   "id": "fdb729cb-13ab-4037-8ca5-28036127b83a",
   "metadata": {},
   "source": [
    "##### -------------------------------------------------------------------------------------------------------------------------------------------------------------------------------"
   ]
  },
  {
   "cell_type": "markdown",
   "id": "dc08d8fe-90f0-471d-b400-6e66379c667c",
   "metadata": {},
   "source": [
    "##### ***Print the following pattern for the given N number of rows.***\n",
    "###### Pattern for N = 4\n",
    "###### ****\n",
    "###### ***\n",
    "###### **\n",
    "###### *"
   ]
  },
  {
   "cell_type": "code",
   "execution_count": 5,
   "id": "d2a14259-4163-4ad3-9b51-c43f3cec331d",
   "metadata": {},
   "outputs": [
    {
     "name": "stdin",
     "output_type": "stream",
     "text": [
      " 4\n"
     ]
    },
    {
     "name": "stdout",
     "output_type": "stream",
     "text": [
      "****\n",
      "***\n",
      "**\n",
      "*\n"
     ]
    }
   ],
   "source": [
    "n  = int(input())\n",
    "i = 1\n",
    "while i <= n:\n",
    "    j = 1\n",
    "    while j <= n - i + 1:\n",
    "        print('*', end = '')\n",
    "        j += 1\n",
    "    print()\n",
    "    i += 1"
   ]
  },
  {
   "cell_type": "markdown",
   "id": "0f7bd3b5-80d8-4f9f-a074-c93cf620c85a",
   "metadata": {},
   "source": [
    "##### -------------------------------------------------------------------------------------------------------------------------------------------------------------------------------"
   ]
  },
  {
   "cell_type": "markdown",
   "id": "02391cbf-6f7f-4342-867e-d3b1a74149e7",
   "metadata": {},
   "source": [
    "##### ***Print the following pattern for the given N number of rows.***\n",
    "###### Pattern for N = 4\n",
    "###### 4444\n",
    "###### 333\n",
    "###### 22\n",
    "###### 1"
   ]
  },
  {
   "cell_type": "code",
   "execution_count": 8,
   "id": "a2535091-fcc5-4ccc-9201-a24bb13172c4",
   "metadata": {},
   "outputs": [
    {
     "name": "stdin",
     "output_type": "stream",
     "text": [
      " 4\n"
     ]
    },
    {
     "name": "stdout",
     "output_type": "stream",
     "text": [
      "4444\n",
      "333\n",
      "22\n",
      "1\n"
     ]
    }
   ],
   "source": [
    "n = int(input())\n",
    "i = 1\n",
    "while i <= n:\n",
    "    j = 1\n",
    "    while j <= n - i + 1:\n",
    "        print(n - i + 1, end = '')\n",
    "        j = j + 1\n",
    "    print()\n",
    "    i += 1"
   ]
  },
  {
   "cell_type": "markdown",
   "id": "b02a83db-5fae-48ca-9610-d749faef30b7",
   "metadata": {},
   "source": [
    "##### -------------------------------------------------------------------------------------------------------------------------------------------------------------------------------"
   ]
  },
  {
   "cell_type": "raw",
   "id": "111c1f2d-9a07-4195-8b8e-ab07a6afc7bc",
   "metadata": {},
   "source": [
    "Print the following pattern for the given N number of rows.\n",
    "Pattern for N = 4\n",
    "   *\n",
    "  **\n",
    " ***\n",
    "****"
   ]
  },
  {
   "cell_type": "code",
   "execution_count": 12,
   "id": "c18e670a-4b44-45cc-b8a9-3a62e3ba21c9",
   "metadata": {},
   "outputs": [
    {
     "name": "stdin",
     "output_type": "stream",
     "text": [
      " 4\n"
     ]
    },
    {
     "name": "stdout",
     "output_type": "stream",
     "text": [
      "   *\n",
      "  **\n",
      " ***\n",
      "****\n"
     ]
    }
   ],
   "source": [
    "n = int(input())\n",
    "i = 1\n",
    "while i <= n:\n",
    "    j = 1\n",
    "    while j <= n:\n",
    "        while j <= n-i:\n",
    "            print(' ', end = '')\n",
    "            j += 1\n",
    "        print('*', end = '')\n",
    "        j = j+ 1\n",
    "    print()\n",
    "    i = i + 1"
   ]
  },
  {
   "cell_type": "code",
   "execution_count": 13,
   "id": "6f57314c-1384-4181-82c3-11b34abb3ddb",
   "metadata": {},
   "outputs": [
    {
     "name": "stdin",
     "output_type": "stream",
     "text": [
      " 4\n"
     ]
    },
    {
     "name": "stdout",
     "output_type": "stream",
     "text": [
      "   *\n",
      "  **\n",
      " ***\n",
      "****\n"
     ]
    }
   ],
   "source": [
    "n = int(input())\n",
    "i = 1\n",
    "while i <= n:\n",
    "    spaces = 1\n",
    "    while spaces <= n - i:\n",
    "        print(' ', end = '')\n",
    "        spaces += 1\n",
    "    stars = 1\n",
    "    while stars <= i:\n",
    "        print(\"*\", end = '')\n",
    "        stars = stars + 1\n",
    "    print()\n",
    "    i = i + 1"
   ]
  },
  {
   "cell_type": "markdown",
   "id": "3a468d2d-8ec8-43f6-be62-e8ad78c52c01",
   "metadata": {},
   "source": [
    "##### -------------------------------------------------------------------------------------------------------------------------------------------------------------------------------"
   ]
  },
  {
   "cell_type": "raw",
   "id": "69c1478d-9bf9-4298-ba6c-d998fa35f7f3",
   "metadata": {},
   "source": [
    "Print the following pattern for the given N number of rows.\n",
    "Pattern for N = 4\n",
    "   1\n",
    "  12\n",
    " 123\n",
    "1234"
   ]
  },
  {
   "cell_type": "code",
   "execution_count": 20,
   "id": "7c541655-40fc-43f9-b363-1844418a1a8b",
   "metadata": {},
   "outputs": [
    {
     "name": "stdin",
     "output_type": "stream",
     "text": [
      " 5\n"
     ]
    },
    {
     "name": "stdout",
     "output_type": "stream",
     "text": [
      "    1\n",
      "   12\n",
      "  123\n",
      " 1234\n",
      "12345\n"
     ]
    }
   ],
   "source": [
    "n = int(input())\n",
    "i = 1\n",
    "while i <= n:\n",
    "    spaces = 1\n",
    "    while spaces <= n - i:\n",
    "        print(' ', end = '')\n",
    "        spaces += 1\n",
    "    numbers = 1\n",
    "    num = 1\n",
    "    while numbers <= i:\n",
    "        print(num, end = '')\n",
    "        num += 1\n",
    "        numbers += 1\n",
    "    print()\n",
    "    i += 1"
   ]
  },
  {
   "cell_type": "markdown",
   "id": "331dea97-2f25-4f89-bfba-87b93df6bc82",
   "metadata": {},
   "source": [
    "##### -------------------------------------------------------------------------------------------------------------------------------------------------------------------------------"
   ]
  },
  {
   "cell_type": "raw",
   "id": "2480c7fb-c603-4f1b-8647-c7d8d416d33e",
   "metadata": {},
   "source": [
    "Print the following pattern for the given N number of rows.\n",
    "Pattern for N = 4\n",
    "   1\n",
    "  121\n",
    " 12321\n",
    "1234321"
   ]
  },
  {
   "cell_type": "code",
   "execution_count": 25,
   "id": "c00e6676-6a1b-482d-aa69-09fb9dd7cfab",
   "metadata": {},
   "outputs": [
    {
     "name": "stdin",
     "output_type": "stream",
     "text": [
      " 4\n"
     ]
    },
    {
     "name": "stdout",
     "output_type": "stream",
     "text": [
      "   1\n",
      "  121\n",
      " 12321\n",
      "1234321\n"
     ]
    }
   ],
   "source": [
    "n = int(input())\n",
    "i = 1\n",
    "while i <= n:\n",
    "    spaces = 1\n",
    "    while spaces <= n - i:\n",
    "        print(' ', end = '')\n",
    "        spaces += 1\n",
    "    numbers = 1\n",
    "    num = 1\n",
    "    #increasing sequence\n",
    "    while numbers <= i:\n",
    "        print(num, end = '')\n",
    "        num += 1\n",
    "        numbers += 1\n",
    "    #decreasing sequence\n",
    "    num = i - 1\n",
    "    while num >= 1:\n",
    "        print(num, end = '')\n",
    "        num = num - 1\n",
    "    print()\n",
    "    i += 1"
   ]
  },
  {
   "cell_type": "markdown",
   "id": "bc4b72ac-d118-4c2f-a46d-4f75733a6682",
   "metadata": {},
   "source": [
    "##### -------------------------------------------------------------------------------------------------------------------------------------------------------------------------------"
   ]
  },
  {
   "cell_type": "raw",
   "id": "eb8ac4c6-b9b4-469e-a3e1-35d6f1bb843f",
   "metadata": {},
   "source": [
    "Print the following pattern for the given N number of rows.\n",
    "Pattern for N = 4\n",
    "   *\n",
    "  ***\n",
    " *****\n",
    "*******"
   ]
  },
  {
   "cell_type": "code",
   "execution_count": 44,
   "id": "da6e6ceb-708f-42ae-b444-c63261dc1ffb",
   "metadata": {},
   "outputs": [
    {
     "name": "stdin",
     "output_type": "stream",
     "text": [
      " 4\n"
     ]
    },
    {
     "name": "stdout",
     "output_type": "stream",
     "text": [
      "   *\n",
      "  ***\n",
      " *****\n",
      "*******\n"
     ]
    }
   ],
   "source": [
    "n = int(input())\n",
    "i = 1\n",
    "while i <= n:\n",
    "    spaces = 1\n",
    "    while spaces <= n-i:\n",
    "        print(' ', end = '')\n",
    "        spaces += 1\n",
    "        \n",
    "    p = 1\n",
    "    j = 1\n",
    "    while j <= i:\n",
    "        print('*', end = '')\n",
    "        j += 1\n",
    "        p += 1\n",
    "        \n",
    "    p = i - 1\n",
    "    while p >= 1:\n",
    "        print('*',end = '')\n",
    "        p = p - 1\n",
    "    print()\n",
    "    i = i + 1\n",
    "    \n"
   ]
  },
  {
   "cell_type": "markdown",
   "id": "f5168f72-a55a-4d1a-984c-67ef63697b63",
   "metadata": {},
   "source": [
    "##### -------------------------------------------------------------------------------------------------------------------------------------------------------------------------------"
   ]
  },
  {
   "cell_type": "raw",
   "id": "094a5f06-fb21-4df9-9f84-daa480079d6e",
   "metadata": {},
   "source": [
    "Print the following pattern for the given N number of rows.\n",
    "Pattern for N = 4\n",
    "   1\n",
    "  232\n",
    " 34543\n",
    "4567654"
   ]
  },
  {
   "cell_type": "code",
   "execution_count": 57,
   "id": "783824c2-67bf-4791-9d64-ded29382b1a5",
   "metadata": {},
   "outputs": [
    {
     "name": "stdin",
     "output_type": "stream",
     "text": [
      " 5\n"
     ]
    },
    {
     "name": "stdout",
     "output_type": "stream",
     "text": [
      "    1\n",
      "   232\n",
      "  34543\n",
      " 4567654\n",
      "567898765\n"
     ]
    }
   ],
   "source": [
    "n = int(input())\n",
    "i = 1\n",
    "while i <= n:\n",
    "    spaces = 1\n",
    "    while spaces <= n-i:\n",
    "        print(' ', end = '')\n",
    "        spaces += 1\n",
    "    p = i\n",
    "    j = 1\n",
    "    while j <= i:\n",
    "        print(p, end = '')\n",
    "        p += 1\n",
    "        j += 1\n",
    "    p = 2 * i - 2\n",
    "    while p >= i:\n",
    "        print(p, end = '')\n",
    "        p = p - 1\n",
    "    \n",
    "    print()\n",
    "    i = i + 1"
   ]
  },
  {
   "cell_type": "markdown",
   "id": "40b44a17-6fc2-49bd-accb-e9989712a4ae",
   "metadata": {},
   "source": [
    "##### -------------------------------------------------------------------------------------------------------------------------------------------------------------------------------"
   ]
  },
  {
   "cell_type": "raw",
   "id": "79ef3718-2f7e-40ea-beb3-ecf434640d90",
   "metadata": {},
   "source": [
    "Print the following pattern for the given N number of rows.\n",
    "Pattern for N = 5\n",
    "  *\n",
    " ***\n",
    "*****\n",
    " ***\n",
    "  *"
   ]
  },
  {
   "cell_type": "code",
   "execution_count": 128,
   "id": "ace6ff72-5ee5-456c-8cc0-65957e8806b8",
   "metadata": {},
   "outputs": [
    {
     "name": "stdin",
     "output_type": "stream",
     "text": [
      " 7\n"
     ]
    },
    {
     "name": "stdout",
     "output_type": "stream",
     "text": [
      "   *\n",
      "  ***\n",
      " *****\n",
      "*******\n",
      " *****\n",
      "  ***\n",
      "   *\n"
     ]
    }
   ],
   "source": [
    "N = int(input())\n",
    "if N % 2 == 0:\n",
    "    print(\"Invalid Input\")\n",
    "n = (N+1)//2\n",
    "i = 1\n",
    "while i <= n:\n",
    "    spaces = 1\n",
    "    while spaces <= n-i:\n",
    "        print(' ', end = '')\n",
    "        spaces += 1\n",
    "    p = 1\n",
    "    j = 1\n",
    "    while j <= i:\n",
    "        print('*', end = '')\n",
    "        j += 1\n",
    "        p += 1\n",
    "    p = i - 1\n",
    "    while p >= 1:\n",
    "        print('*', end = '')\n",
    "        p = p - 1\n",
    "    print()\n",
    "    i = i + 1\n",
    "    \n",
    "n2 = n - 1\n",
    "i = 1 \n",
    "while i <= n2:\n",
    "    space = 1\n",
    "    while space <= i:\n",
    "        print(' ', end = '')\n",
    "        space += 1\n",
    "    p = 1\n",
    "    j = 1\n",
    "    while j <= n2 - i + 1:\n",
    "        print('*', end = '')\n",
    "        j += 1\n",
    "    p  = n2 - i\n",
    "    while p >= 1:\n",
    "        print('*', end ='')\n",
    "        p -= 1\n",
    "    print()\n",
    "    i = i + 1"
   ]
  },
  {
   "cell_type": "markdown",
   "id": "662ae5b1-01f7-430f-ab55-23102a893c9a",
   "metadata": {},
   "source": [
    "##### -------------------------------------------------------------------------------------------------------------------------------------------------------------------------------"
   ]
  },
  {
   "cell_type": "raw",
   "id": "1424058c-1fc5-4c66-be85-e110e81adf96",
   "metadata": {},
   "source": [
    "Print the following pattern for the given N number of rows.\n",
    "Pattern for N = 5\n",
    "1    1\n",
    "12   21\n",
    "123  321\n",
    "1234 4321\n",
    "1234554321"
   ]
  },
  {
   "cell_type": "code",
   "execution_count": 143,
   "id": "1ffaf3e0-119d-41a5-a72d-c1c9e2918562",
   "metadata": {},
   "outputs": [
    {
     "name": "stdin",
     "output_type": "stream",
     "text": [
      " 5\n"
     ]
    },
    {
     "name": "stdout",
     "output_type": "stream",
     "text": [
      "1    1\n",
      "12   21\n",
      "123  321\n",
      "1234 4321\n",
      "1234554321\n"
     ]
    }
   ],
   "source": [
    "n = int(input())\n",
    "i = 1\n",
    "while i <= n:\n",
    "    \n",
    "    p = 1\n",
    "    j = 1\n",
    "    while j <= i:\n",
    "        print(p, end = '')\n",
    "        p += 1\n",
    "        j += 1\n",
    "    spaces = 1\n",
    "    while spaces <= n - i:\n",
    "        print(' ', end = '')\n",
    "        spaces += 1\n",
    "    j = 1\n",
    "    p = i\n",
    "    while j <= i:\n",
    "        print(p, end = '')\n",
    "        j = j+ 1\n",
    "        p = p - 1 \n",
    "    print()\n",
    "    i += 1"
   ]
  },
  {
   "cell_type": "markdown",
   "id": "098665c5-1b10-4c18-951c-073eba007069",
   "metadata": {},
   "source": [
    "##### -------------------------------------------------------------------------------------------------------------------------------------------------------------------------------"
   ]
  },
  {
   "cell_type": "raw",
   "id": "5d1e88dd-ccd1-412b-a955-49799c60f22a",
   "metadata": {},
   "source": [
    "Print the following pattern for the given N number of rows.\n",
    "Pattern for N = 4\n",
    "*000*000*\n",
    "0*00*00*0\n",
    "00*0*0*00\n",
    "000***000"
   ]
  },
  {
   "cell_type": "code",
   "execution_count": 187,
   "id": "9a96accf-624f-41bc-863d-37c788730a59",
   "metadata": {},
   "outputs": [
    {
     "name": "stdin",
     "output_type": "stream",
     "text": [
      " 3\n"
     ]
    },
    {
     "name": "stdout",
     "output_type": "stream",
     "text": [
      "*00*00*\n",
      "0*0*0*0\n",
      "00***00\n"
     ]
    }
   ],
   "source": [
    "n = int(input())\n",
    "i = 1\n",
    "while i <= n:\n",
    "    zeroes = 1\n",
    "    while zeroes <= i - 1:\n",
    "        print('0', end = '')\n",
    "        zeroes += 1\n",
    "    stars = i\n",
    "    while stars == i:\n",
    "        print('*', end = '')\n",
    "        stars += 1\n",
    "    zeroes = 1\n",
    "    while zeroes <= n-i:\n",
    "        print('0', end = '')\n",
    "        zeroes += 1\n",
    "    j = 1\n",
    "    while j == 1:\n",
    "        print('*', end = '')\n",
    "        j += 1\n",
    "    zeroes = 1\n",
    "    while zeroes <= n-i:\n",
    "        print('0', end = '')\n",
    "        zeroes += 1\n",
    "    stars = n - i + 1\n",
    "    while stars == n - i + 1:\n",
    "        print('*', end = '')\n",
    "        stars += 1\n",
    "    zeroes = 1\n",
    "    while zeroes <= i - 1:\n",
    "        print('0',end = '')\n",
    "        zeroes += 1\n",
    "        \n",
    "    print()\n",
    "    i += 1"
   ]
  },
  {
   "cell_type": "code",
   "execution_count": 188,
   "id": "ae16feaa-98aa-46b7-8fd9-adb56fa0692e",
   "metadata": {},
   "outputs": [
    {
     "name": "stdin",
     "output_type": "stream",
     "text": [
      " 5\n"
     ]
    },
    {
     "name": "stdout",
     "output_type": "stream",
     "text": [
      "*0000*0000*\n",
      "0*000*000*0\n",
      "00*00*00*00\n",
      "000*0*0*000\n",
      "0000***0000\n"
     ]
    }
   ],
   "source": [
    "n = int(input())\n",
    "start = 1\n",
    "end = 2 * n + 1\n",
    "mid = n + 1\n",
    "row = 1\n",
    "while row <= n:\n",
    "    column = 1\n",
    "    while (column <= 2 * n + 1):\n",
    "        if (column == start or column == mid or column == end):\n",
    "            print('*', end = '')\n",
    "        else:\n",
    "            print('0', end = '')\n",
    "        column += 1\n",
    "    start += 1\n",
    "    end -= 1\n",
    "    row += 1\n",
    "    print()"
   ]
  },
  {
   "cell_type": "markdown",
   "id": "b1037b6c-170f-43c5-98dc-6661740f935d",
   "metadata": {},
   "source": [
    "##### -------------------------------------------------------------------------------------------------------------------------------------------------------------------------------"
   ]
  },
  {
   "cell_type": "raw",
   "id": "c8e431a8-02ec-4383-af0e-e01c79b192e4",
   "metadata": {},
   "source": [
    "Print the following pattern for the given N number of rows.\n",
    "Pattern for N = 5\n",
    "    1\n",
    "   212\n",
    "  32123\n",
    " 4321234\n",
    "543212345"
   ]
  },
  {
   "cell_type": "code",
   "execution_count": 151,
   "id": "8bc5d9ee-3bb4-449a-85ef-2aeb69c2075d",
   "metadata": {},
   "outputs": [
    {
     "name": "stdin",
     "output_type": "stream",
     "text": [
      " 5\n"
     ]
    },
    {
     "name": "stdout",
     "output_type": "stream",
     "text": [
      "    1\n",
      "   212\n",
      "  32123\n",
      " 4321234\n",
      "543212345\n"
     ]
    }
   ],
   "source": [
    "n = int(input())\n",
    "i = 1\n",
    "while i <= n:\n",
    "    spaces = 1\n",
    "    while spaces <= n - i:\n",
    "        print(' ', end = '')\n",
    "        spaces += 1\n",
    "    p = i\n",
    "    j = 1\n",
    "    while j <= i:\n",
    "        print(p, end = '')\n",
    "        j += 1\n",
    "        p -= 1\n",
    "    p = 2\n",
    "    j = 1\n",
    "    while j <= i - 1:\n",
    "        print(p, end = '')\n",
    "        p = p + 1\n",
    "        j += 1\n",
    "    print()\n",
    "    i += 1"
   ]
  },
  {
   "cell_type": "markdown",
   "id": "baa750c1-b400-4f16-81e4-b36e89d56536",
   "metadata": {},
   "source": [
    "##### -------------------------------------------------------------------------------------------------------------------------------------------------------------------------------"
   ]
  },
  {
   "cell_type": "raw",
   "id": "f75214c7-7dde-4b97-a4e0-a81be204ba60",
   "metadata": {},
   "source": [
    "Print the following pattern for the given N number of rows.\n",
    "Pattern for N = 7\n",
    "*\n",
    " **\n",
    "  ***\n",
    "   ****\n",
    "  ***\n",
    " **\n",
    "*"
   ]
  },
  {
   "cell_type": "code",
   "execution_count": 156,
   "id": "1c4f27de-4f38-43bd-9231-f9890ea2c49e",
   "metadata": {},
   "outputs": [
    {
     "name": "stdin",
     "output_type": "stream",
     "text": [
      " 7\n"
     ]
    },
    {
     "name": "stdout",
     "output_type": "stream",
     "text": [
      "* \n",
      " * * \n",
      "  * * * \n",
      "   * * * * \n",
      "  * * * \n",
      " * * \n",
      "* \n"
     ]
    }
   ],
   "source": [
    "N = int(input())\n",
    "n1 = (N + 1)//2\n",
    "i = 1\n",
    "while i <= n1:\n",
    "    spaces = 1\n",
    "    while spaces <= i - 1:\n",
    "        print(' ', end = '')\n",
    "        spaces += 1\n",
    "    \n",
    "    j = 1\n",
    "    while j <= i:\n",
    "        print('*', end = ' ')\n",
    "        j += 1\n",
    "        \n",
    "    print()\n",
    "    i += 1 \n",
    "n2 = n1 - 1\n",
    "i = 1\n",
    "while i <= n2:\n",
    "    spaces = 1 \n",
    "    while spaces <= n2 - i:\n",
    "        print(' ', end = '')\n",
    "        spaces += 1\n",
    "    \n",
    "    j = 1\n",
    "    while j <= n2 - i + 1:\n",
    "        print('*', end = ' ')\n",
    "        j = j+ 1\n",
    "    print()\n",
    "    i += 1"
   ]
  },
  {
   "cell_type": "markdown",
   "id": "6ac0f33a-c194-44c3-bef4-5c03e6dec297",
   "metadata": {},
   "source": [
    "##### -------------------------------------------------------------------------------------------------------------------------------------------------------------------------------"
   ]
  }
 ],
 "metadata": {
  "kernelspec": {
   "display_name": "Python 3 (ipykernel)",
   "language": "python",
   "name": "python3"
  },
  "language_info": {
   "codemirror_mode": {
    "name": "ipython",
    "version": 3
   },
   "file_extension": ".py",
   "mimetype": "text/x-python",
   "name": "python",
   "nbconvert_exporter": "python",
   "pygments_lexer": "ipython3",
   "version": "3.10.4"
  }
 },
 "nbformat": 4,
 "nbformat_minor": 5
}
