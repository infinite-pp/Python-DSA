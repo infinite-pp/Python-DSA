{
 "cells": [
  {
   "cell_type": "markdown",
   "id": "c4d75d40-d750-4941-a835-3b853b83b946",
   "metadata": {},
   "source": [
    "##### -------------------------------------------------------------------------------------------------------------------------------------------------------------------------------"
   ]
  },
  {
   "cell_type": "code",
   "execution_count": 1,
   "id": "fe9ab8fd-b604-45c7-abfd-f84209fbc949",
   "metadata": {},
   "outputs": [
    {
     "name": "stdout",
     "output_type": "stream",
     "text": [
      "a\n",
      "b\n",
      "c\n",
      "d\n",
      "e\n"
     ]
    }
   ],
   "source": [
    "# print every char of the string\n",
    "s = 'abcde'\n",
    "for c in s:\n",
    "    print(c)"
   ]
  },
  {
   "cell_type": "markdown",
   "id": "4bd32a95-edda-4cb6-bf32-38daa0afa478",
   "metadata": {},
   "source": [
    "##### -------------------------------------------------------------------------------------------------------------------------------------------------------------------------------"
   ]
  },
  {
   "cell_type": "markdown",
   "id": "3e6f69b0-4015-4492-bdff-baadcd395ecc",
   "metadata": {},
   "source": [
    "##### ***Print natural numbers***"
   ]
  },
  {
   "cell_type": "code",
   "execution_count": 2,
   "id": "1516a0de-95d6-47b8-8d23-d48cdc3ec304",
   "metadata": {},
   "outputs": [
    {
     "name": "stdin",
     "output_type": "stream",
     "text": [
      " 8\n"
     ]
    },
    {
     "name": "stdout",
     "output_type": "stream",
     "text": [
      "0\n",
      "1\n",
      "2\n",
      "3\n",
      "4\n",
      "5\n",
      "6\n",
      "7\n",
      "----------\n",
      "1\n",
      "2\n",
      "3\n",
      "4\n",
      "5\n",
      "6\n",
      "7\n",
      "----------\n",
      "1\n",
      "2\n",
      "3\n",
      "4\n",
      "5\n",
      "6\n",
      "7\n",
      "----------\n",
      "1\n",
      "2\n",
      "3\n",
      "4\n",
      "5\n",
      "6\n",
      "7\n",
      "8\n"
     ]
    }
   ],
   "source": [
    "# range(start, stop, stride)\n",
    "# it will get you printed till n-1\n",
    "# output will be stopped at stop-1\n",
    "n = int(input())\n",
    "for i in range( n):\n",
    "    print(i)\n",
    "\n",
    "print('----------')\n",
    "\n",
    "for i in range(1, n):\n",
    "    print(i)\n",
    "    \n",
    "print('----------')\n",
    "\n",
    "for i in range(1, n, 1):\n",
    "    print(i)\n",
    "\n",
    "print('----------')\n",
    "\n",
    "for i in range(1, n+1, 1):\n",
    "    print(i)"
   ]
  },
  {
   "cell_type": "code",
   "execution_count": 3,
   "id": "81e8dc77-a7cb-483e-a0ac-1751a81836a3",
   "metadata": {},
   "outputs": [
    {
     "name": "stdout",
     "output_type": "stream",
     "text": [
      "1 3 "
     ]
    }
   ],
   "source": [
    "for i in range(1, 5, 2):\n",
    "    print(i, end=' ')"
   ]
  },
  {
   "cell_type": "markdown",
   "id": "71f3a39a-9c0f-47f2-b74b-5bfcc98e01d4",
   "metadata": {},
   "source": [
    "##### -------------------------------------------------------------------------------------------------------------------------------------------------------------------------------"
   ]
  },
  {
   "cell_type": "code",
   "execution_count": 4,
   "id": "1c893f89-946d-4770-8ff4-6ad059892624",
   "metadata": {},
   "outputs": [
    {
     "name": "stdin",
     "output_type": "stream",
     "text": [
      " 22\n"
     ]
    },
    {
     "name": "stdout",
     "output_type": "stream",
     "text": [
      "0 1 2 3 4 5 6 7 8 9 10 11 12 13 14 15 16 17 18 19 20 21 22 "
     ]
    }
   ],
   "source": [
    "# When assigning only one value to range\n",
    "# By default, start is 0\n",
    "# By default, print(i) is print(i, end='\\n')\n",
    "# By default, stride/step is 1\n",
    "n = int(input())\n",
    "for i in range(n + 1):\n",
    "    print(i, end=' ')"
   ]
  },
  {
   "cell_type": "code",
   "execution_count": null,
   "id": "58d3dea8-f047-41c5-bf7c-234149e712be",
   "metadata": {},
   "outputs": [
    {
     "name": "stdin",
     "output_type": "stream",
     "text": [
      " 7\n"
     ]
    },
    {
     "name": "stdout",
     "output_type": "stream",
     "text": [
      "1\n",
      "2\n",
      "3\n",
      "4\n",
      "5\n",
      "6\n"
     ]
    },
    {
     "name": "stdin",
     "output_type": "stream",
     "text": [
      " 7\n"
     ]
    }
   ],
   "source": [
    "# If we assign two values to range: \n",
    "# It will take 1st arg as start and second as stop\n",
    "# By default, step is 1\n",
    "n = int(input())\n",
    "for i in range(1, n):\n",
    "    print(i)\n",
    "# below here, it will do nothing, why?\n",
    "m = int(input())\n",
    "for i in range(m+1, 1):\n",
    "    print(i)\n",
    "# above piece of code is saying that go from n+1 to 1 by increasing by 1\n",
    "# if input is negative then it will work fine"
   ]
  },
  {
   "cell_type": "markdown",
   "id": "5c4ddd69-a2e1-42ea-b582-480f3dcb1491",
   "metadata": {},
   "source": [
    "##### -------------------------------------------------------------------------------------------------------------------------------------------------------------------------------"
   ]
  },
  {
   "cell_type": "markdown",
   "id": "7c9fc94f-66f0-4b1b-84e2-133a4cb938c2",
   "metadata": {},
   "source": [
    "##### ***Print numbers from n to 1***"
   ]
  },
  {
   "cell_type": "code",
   "execution_count": 6,
   "id": "5899a9de-46dd-48cc-bb36-f9c9444bb866",
   "metadata": {},
   "outputs": [
    {
     "name": "stdin",
     "output_type": "stream",
     "text": [
      " 7\n"
     ]
    },
    {
     "name": "stdout",
     "output_type": "stream",
     "text": [
      "7\n",
      "6\n",
      "5\n",
      "4\n",
      "3\n",
      "2\n",
      "1\n"
     ]
    }
   ],
   "source": [
    "n = int(input())\n",
    "for i in range(n, 0, -1):\n",
    "    print(i)"
   ]
  },
  {
   "cell_type": "markdown",
   "id": "1678f1da-8a04-40d8-8a65-b0ae133e45a1",
   "metadata": {},
   "source": [
    "##### -------------------------------------------------------------------------------------------------------------------------------------------------------------------------------"
   ]
  },
  {
   "cell_type": "markdown",
   "id": "57a384df-3750-4794-bebc-2df428619191",
   "metadata": {},
   "source": [
    "##### ***Print multiples of 3***"
   ]
  },
  {
   "cell_type": "code",
   "execution_count": 7,
   "id": "8dbf63ee-223e-4da3-a159-a342ab881d1f",
   "metadata": {},
   "outputs": [
    {
     "name": "stdin",
     "output_type": "stream",
     "text": [
      " 5\n",
      " 3\n"
     ]
    },
    {
     "name": "stdout",
     "output_type": "stream",
     "text": [
      "3\n"
     ]
    }
   ],
   "source": [
    "a = int(input())\n",
    "b = int(input())\n",
    "if a < b:\n",
    "    for i in range(a, b+1, 1):\n",
    "        if i % 3 == 0:\n",
    "            print(i)\n",
    "else:\n",
    "    for i in range(a, b-1, -1):\n",
    "        if i % 3 == 0:\n",
    "            print(i)"
   ]
  },
  {
   "cell_type": "code",
   "execution_count": 8,
   "id": "44068b4a-28b8-49d2-94fe-c697241697ce",
   "metadata": {},
   "outputs": [
    {
     "name": "stdin",
     "output_type": "stream",
     "text": [
      " 5\n",
      " 25\n"
     ]
    },
    {
     "name": "stdout",
     "output_type": "stream",
     "text": [
      "6\n",
      "9\n",
      "12\n",
      "15\n",
      "18\n",
      "21\n",
      "24\n"
     ]
    }
   ],
   "source": [
    "a = int(input())\n",
    "b = int(input())\n",
    "\n",
    "if a % 3 == 0:\n",
    "    s = a\n",
    "elif a % 3 == 1:\n",
    "    s = a + 2\n",
    "else:\n",
    "    s = a + 1\n",
    "    \n",
    "for i in range(s, b+1, 3):\n",
    "    print(i)"
   ]
  },
  {
   "cell_type": "markdown",
   "id": "b9a0dfbf-4c58-4f65-9c4b-f5070bc28904",
   "metadata": {},
   "source": [
    "##### -------------------------------------------------------------------------------------------------------------------------------------------------------------------------------"
   ]
  },
  {
   "cell_type": "markdown",
   "id": "a764851c-3837-47f5-bd40-96141c935780",
   "metadata": {},
   "source": [
    "##### ***Check Primality***"
   ]
  },
  {
   "cell_type": "code",
   "execution_count": 9,
   "id": "ae0dbedc-95d6-4883-835a-3e4b1dd555f5",
   "metadata": {},
   "outputs": [
    {
     "name": "stdin",
     "output_type": "stream",
     "text": [
      " 56\n"
     ]
    },
    {
     "name": "stdout",
     "output_type": "stream",
     "text": [
      "Not Prime\n"
     ]
    }
   ],
   "source": [
    "n = int(input())\n",
    "flag = False\n",
    "for i in range(2, n, 1):\n",
    "    if n % i == 0:\n",
    "        flag = True\n",
    "if flag:\n",
    "    print('Not Prime')\n",
    "else:\n",
    "    print('Prime')"
   ]
  },
  {
   "cell_type": "markdown",
   "id": "82d79797-2a01-4641-adda-b4f958556f39",
   "metadata": {},
   "source": [
    "##### -------------------------------------------------------------------------------------------------------------------------------------------------------------------------------"
   ]
  },
  {
   "cell_type": "raw",
   "id": "a92e7350-05ca-4c1e-a010-9b46a270d9a8",
   "metadata": {
    "tags": []
   },
   "source": [
    "Print the following pattern\n",
    "For N = 4\n",
    "   1\n",
    "  232\n",
    " 34543\n",
    "4567654"
   ]
  },
  {
   "cell_type": "code",
   "execution_count": 1,
   "id": "25e82f8b-b26d-469e-ae02-d1470d6dadc9",
   "metadata": {},
   "outputs": [
    {
     "name": "stdin",
     "output_type": "stream",
     "text": [
      " 5\n"
     ]
    },
    {
     "name": "stdout",
     "output_type": "stream",
     "text": [
      "    1\n",
      "   232\n",
      "  34543\n",
      " 4567654\n",
      "567898765\n"
     ]
    }
   ],
   "source": [
    "n = int(input())\n",
    "for i in range(1, n+1, 1):\n",
    "    for sp in range(n-i):\n",
    "        print(' ', end = '')\n",
    "    for j in range(i, 2*i, 1):\n",
    "        print(j, end = '')\n",
    "    for j in range(2 * i - 2, i-1, -1):\n",
    "        print(j, end = '')\n",
    "    print()"
   ]
  },
  {
   "cell_type": "markdown",
   "id": "bbe96669-b738-412a-badf-cb3d26f96789",
   "metadata": {},
   "source": [
    "##### -------------------------------------------------------------------------------------------------------------------------------------------------------------------------------"
   ]
  },
  {
   "cell_type": "markdown",
   "id": "e6659273-fe66-4378-9f08-757667ba7788",
   "metadata": {},
   "source": [
    "#### ***Break Keyword***"
   ]
  },
  {
   "cell_type": "code",
   "execution_count": 11,
   "id": "631e659c-6f6c-4a69-8494-6d9a903c0748",
   "metadata": {},
   "outputs": [
    {
     "name": "stdout",
     "output_type": "stream",
     "text": [
      "1\n",
      "2\n",
      "3\n",
      "4\n"
     ]
    }
   ],
   "source": [
    "i = 1\n",
    "while i < 10:\n",
    "    if i == 5:\n",
    "        break\n",
    "    print(i)\n",
    "    i += 1"
   ]
  },
  {
   "cell_type": "code",
   "execution_count": 12,
   "id": "23142638-311b-478d-be7c-1fc96e79dfe9",
   "metadata": {},
   "outputs": [
    {
     "name": "stdin",
     "output_type": "stream",
     "text": [
      " 3211\n"
     ]
    },
    {
     "name": "stdout",
     "output_type": "stream",
     "text": [
      "not Prime\n"
     ]
    }
   ],
   "source": [
    "n = int(input())\n",
    "d = 2\n",
    "flag = False\n",
    "while d < n:\n",
    "    if (n % d == 0):\n",
    "        flag = True\n",
    "        break\n",
    "    d += 1\n",
    "    \n",
    "if flag:\n",
    "    print('not Prime')\n",
    "else:\n",
    "    print('Prime')"
   ]
  },
  {
   "cell_type": "code",
   "execution_count": 13,
   "id": "c81eb87a-8d1e-4238-b4a2-41d7c210613c",
   "metadata": {},
   "outputs": [
    {
     "name": "stdin",
     "output_type": "stream",
     "text": [
      " 22\n"
     ]
    },
    {
     "name": "stdout",
     "output_type": "stream",
     "text": [
      "2\n",
      "3\n",
      "5\n",
      "7\n",
      "11\n",
      "13\n",
      "17\n",
      "19\n"
     ]
    }
   ],
   "source": [
    "n = int(input())\n",
    "k = 2\n",
    "while k <= n:\n",
    "    d = 2\n",
    "    flag = False\n",
    "    while d < k:\n",
    "        if k % d == 0:\n",
    "            flag = True\n",
    "            break\n",
    "        d += 1\n",
    "    if not(flag):\n",
    "        print(k)\n",
    "    k += 1"
   ]
  },
  {
   "cell_type": "markdown",
   "id": "2ba19a1e-dfd1-4831-9e65-cbcf6839c18e",
   "metadata": {},
   "source": [
    "##### -------------------------------------------------------------------------------------------------------------------------------------------------------------------------------"
   ]
  },
  {
   "cell_type": "markdown",
   "id": "39eddc01-b3c6-410e-a1ae-7411e0605512",
   "metadata": {},
   "source": [
    "#### ***Else Keyword with loops***"
   ]
  },
  {
   "cell_type": "raw",
   "id": "3d0c9b6c-ba2d-4239-8540-04e6caa2e39b",
   "metadata": {},
   "source": [
    "while (condition):\n",
    "\n",
    "else:\n",
    "\n",
    "----\n",
    "We can come out of while loop either\n",
    "1. condition is False, or\n",
    "2. we have hit a break statement\n",
    "----\n",
    "Code inside else will not be executed if while or for loop is finished because of break statement."
   ]
  },
  {
   "cell_type": "code",
   "execution_count": 14,
   "id": "35dd693f-36be-42de-8cf2-9e8d6af13bf5",
   "metadata": {},
   "outputs": [
    {
     "name": "stdout",
     "output_type": "stream",
     "text": [
      "1\n",
      "2\n",
      "3\n",
      "4\n",
      "5\n",
      "6\n",
      "7\n",
      "8\n",
      "9\n",
      "This will be printed once at the end.\n"
     ]
    }
   ],
   "source": [
    "i = 1\n",
    "while i < 10:\n",
    "    print(i)\n",
    "    i += 1\n",
    "else:\n",
    "    print(\"This will be printed once at the end.\")"
   ]
  },
  {
   "cell_type": "code",
   "execution_count": 15,
   "id": "3ce4af2c-5201-4782-88ca-937fe25a775e",
   "metadata": {},
   "outputs": [
    {
     "name": "stdout",
     "output_type": "stream",
     "text": [
      "1\n",
      "2\n",
      "3\n",
      "4\n",
      "5\n",
      "6\n",
      "7\n",
      "8\n",
      "9\n",
      "This will also be printed once at the end\n"
     ]
    }
   ],
   "source": [
    "for i in range(1, 10):\n",
    "    print(i)\n",
    "else:\n",
    "    print(\"This will also be printed once at the end\")"
   ]
  },
  {
   "cell_type": "code",
   "execution_count": 16,
   "id": "0eb0cf6b-5eb9-4730-82f3-0fa5d792a441",
   "metadata": {},
   "outputs": [
    {
     "name": "stdout",
     "output_type": "stream",
     "text": [
      "1\n",
      "2\n",
      "3\n",
      "4\n"
     ]
    }
   ],
   "source": [
    "for i in range(1, 10):\n",
    "    if i == 5:\n",
    "        break\n",
    "    print(i)\n",
    "else:\n",
    "    print(\"This will be printed once at the end.\")"
   ]
  },
  {
   "cell_type": "code",
   "execution_count": 17,
   "id": "002bb26c-c52f-46e6-844e-c150fc2e2cad",
   "metadata": {},
   "outputs": [
    {
     "name": "stdin",
     "output_type": "stream",
     "text": [
      " 11\n"
     ]
    },
    {
     "name": "stdout",
     "output_type": "stream",
     "text": [
      "Prime Number\n"
     ]
    }
   ],
   "source": [
    "n = int(input())\n",
    "for d in range(2, n, 1):\n",
    "    if n % d == 0:\n",
    "        print('Not Prime')\n",
    "        break\n",
    "else:\n",
    "    print('Prime Number')"
   ]
  },
  {
   "cell_type": "markdown",
   "id": "29b29786-bd20-4872-ae20-c83e2867be2c",
   "metadata": {},
   "source": [
    "##### -------------------------------------------------------------------------------------------------------------------------------------------------------------------------------"
   ]
  },
  {
   "cell_type": "markdown",
   "id": "9a84b854-fbcd-4f6b-96d3-3a81d4613df4",
   "metadata": {},
   "source": [
    "#### ***Continue Keyword***"
   ]
  },
  {
   "cell_type": "raw",
   "id": "be6a089e-7f87-4357-87b7-6905617278a2",
   "metadata": {
    "tags": []
   },
   "source": [
    "Continue is used to skip an iteration"
   ]
  },
  {
   "cell_type": "code",
   "execution_count": 18,
   "id": "2be66f13-14b5-44c2-82c6-c7d1de851c31",
   "metadata": {},
   "outputs": [
    {
     "name": "stdout",
     "output_type": "stream",
     "text": [
      "1\n",
      "5\n",
      "7\n",
      "11\n",
      "13\n",
      "17\n",
      "19\n",
      "23\n",
      "25\n",
      "29\n"
     ]
    }
   ],
   "source": [
    "for i in range(1, 31, 1):\n",
    "    if i % 3 == 0 or i % 2 == 0:\n",
    "        continue\n",
    "    print(i)"
   ]
  },
  {
   "cell_type": "code",
   "execution_count": 19,
   "id": "b3767ba3-5231-4e6f-a4cb-4457de661860",
   "metadata": {},
   "outputs": [
    {
     "name": "stdin",
     "output_type": "stream",
     "text": [
      " 15\n"
     ]
    },
    {
     "name": "stdout",
     "output_type": "stream",
     "text": [
      "2\n",
      "4\n",
      "6\n",
      "8\n",
      "10\n",
      "12\n"
     ]
    }
   ],
   "source": [
    "n = int(input())\n",
    "for i in range(2, n + 1, 2):\n",
    "    if i % 7 == 0:\n",
    "        continue\n",
    "    print(i)\n",
    "    "
   ]
  },
  {
   "cell_type": "code",
   "execution_count": 20,
   "id": "d7519609-be1e-48f7-91fa-166e838c7785",
   "metadata": {},
   "outputs": [
    {
     "name": "stdin",
     "output_type": "stream",
     "text": [
      " 15\n"
     ]
    },
    {
     "name": "stdout",
     "output_type": "stream",
     "text": [
      "2\n",
      "2\n",
      "4\n",
      "4\n",
      "6\n",
      "6\n",
      "8\n",
      "8\n",
      "10\n",
      "10\n",
      "12\n",
      "12\n",
      "14\n"
     ]
    }
   ],
   "source": [
    "# Print twice but multiple of 7 only once\n",
    "n = int(input())\n",
    "for i in range(2, n + 1, 2):\n",
    "    print(i)\n",
    "    if i % 7 == 0:\n",
    "        continue\n",
    "    print(i)"
   ]
  },
  {
   "cell_type": "code",
   "execution_count": 21,
   "id": "2860c4d6-fb5f-4168-a0f4-af58d0cb88f3",
   "metadata": {},
   "outputs": [
    {
     "name": "stdin",
     "output_type": "stream",
     "text": [
      " 15\n"
     ]
    },
    {
     "name": "stdout",
     "output_type": "stream",
     "text": [
      "2\n",
      "4\n",
      "6\n",
      "8\n",
      "10\n",
      "12\n"
     ]
    }
   ],
   "source": [
    "n = int(input())\n",
    "i = 2\n",
    "while i <= n:\n",
    "    if i % 7 == 0:\n",
    "        i += 2       # if it is not here then infinite loop\n",
    "        continue\n",
    "    print(i)\n",
    "    i += 2"
   ]
  },
  {
   "cell_type": "raw",
   "id": "f92eef5e-6378-4fae-b548-0d5586fa819f",
   "metadata": {},
   "source": [
    "##### -------------------------------------------------------------------------------------------------------------------------------------------------------------------------------"
   ]
  },
  {
   "cell_type": "code",
   "execution_count": 22,
   "id": "a4a8395f-ae7e-42d1-99f6-0f330ee47cbc",
   "metadata": {},
   "outputs": [
    {
     "name": "stdout",
     "output_type": "stream",
     "text": [
      "1 2 4 5 1 2 4 5 "
     ]
    }
   ],
   "source": [
    "i = 1\n",
    "while i < 3:\n",
    "    j = 0\n",
    "    while j < 5:\n",
    "        j += 1\n",
    "        if j == 3:\n",
    "            continue\n",
    "        print(j, end = ' ')\n",
    "    i += 1"
   ]
  },
  {
   "cell_type": "markdown",
   "id": "1e56337c-8738-48c4-8313-8bfc04155a3f",
   "metadata": {},
   "source": [
    "##### -------------------------------------------------------------------------------------------------------------------------------------------------------------------------------"
   ]
  },
  {
   "cell_type": "markdown",
   "id": "2d8d8750-637f-4bdc-80ae-916ef3d4ea88",
   "metadata": {},
   "source": [
    "#### ***Pass Statement***"
   ]
  },
  {
   "cell_type": "raw",
   "id": "dd4785b5-f77c-41d2-bf42-ec1779aa7519",
   "metadata": {},
   "source": [
    "Generally, pass is used as a dummy inside loop and conditionals.\n",
    "While working with loops, sometimes it can be useful if there is something which is not striking at that time, use pass.\n",
    "Otherwise it is of no much useful."
   ]
  },
  {
   "cell_type": "code",
   "execution_count": 23,
   "id": "c22f72d3-3736-4b72-a779-c05b5e196686",
   "metadata": {},
   "outputs": [
    {
     "name": "stdout",
     "output_type": "stream",
     "text": [
      "Hey\n"
     ]
    }
   ],
   "source": [
    "# We can't leave a conditional or loop without any statement inside it\n",
    "# So, we use pass statement to leave it\n",
    "i = 3\n",
    "if i < 7:\n",
    "    pass\n",
    "print('Hey')"
   ]
  },
  {
   "cell_type": "code",
   "execution_count": 24,
   "id": "28955210-0f72-4c00-a416-214052dc4f02",
   "metadata": {},
   "outputs": [
    {
     "name": "stdout",
     "output_type": "stream",
     "text": [
      "end\n"
     ]
    }
   ],
   "source": [
    "i = 1 \n",
    "while i <= 3:\n",
    "    pass\n",
    "    i += 1     # if we don't increment i then it will keep passing and it will be infinite loop\n",
    "print('end')"
   ]
  },
  {
   "cell_type": "code",
   "execution_count": 25,
   "id": "b3a011e5-6b8c-4f39-96ee-5bd37b2c6117",
   "metadata": {},
   "outputs": [
    {
     "name": "stdout",
     "output_type": "stream",
     "text": [
      "end\n"
     ]
    }
   ],
   "source": [
    "for i in range(1, 4):\n",
    "    pass \n",
    "print('end')"
   ]
  },
  {
   "cell_type": "markdown",
   "id": "744036a3-f183-4456-8d9d-6176ef5ded26",
   "metadata": {},
   "source": [
    "##### -------------------------------------------------------------------------------------------------------------------------------------------------------------------------------"
   ]
  },
  {
   "cell_type": "raw",
   "id": "10eb1d47-df64-4a0e-a9f8-2e3458181ace",
   "metadata": {},
   "source": [
    "Binary Pattern\n",
    "\n",
    "Print the following pattern for the given number of rows.\n",
    "Pattern for N = 4\n",
    "1111\n",
    "000\n",
    "11\n",
    "0"
   ]
  },
  {
   "cell_type": "code",
   "execution_count": 26,
   "id": "71086de8-aa73-4118-b83c-b727b0a6653a",
   "metadata": {},
   "outputs": [
    {
     "name": "stdin",
     "output_type": "stream",
     "text": [
      " 15\n"
     ]
    },
    {
     "name": "stdout",
     "output_type": "stream",
     "text": [
      "111111111111111\n",
      "00000000000000\n",
      "1111111111111\n",
      "000000000000\n",
      "11111111111\n",
      "0000000000\n",
      "111111111\n",
      "00000000\n",
      "1111111\n",
      "000000\n",
      "11111\n",
      "0000\n",
      "111\n",
      "00\n",
      "1\n"
     ]
    }
   ],
   "source": [
    "n = int(input())\n",
    "for i in range(1, n+1):\n",
    "    for j in range(1, n - i + 2):\n",
    "        if i % 2 == 0:\n",
    "            print('0', end = '')\n",
    "        else:\n",
    "            print('1',end = '')\n",
    "    print()\n",
    "    "
   ]
  },
  {
   "cell_type": "markdown",
   "id": "f2047147-541b-4078-b022-71ea7fe11bf9",
   "metadata": {},
   "source": [
    "##### -------------------------------------------------------------------------------------------------------------------------------------------------------------------------------"
   ]
  },
  {
   "cell_type": "raw",
   "id": "48154ee6-9ec5-4495-a276-d8312446815c",
   "metadata": {},
   "source": [
    "Number Pyramid\n",
    "\n",
    "Print the following pattern for the given number of rows.\n",
    "Pattern for N = 6\n",
    "\n",
    "123456\n",
    " 23456\n",
    "  3456\n",
    "   456\n",
    "    56\n",
    "     6\n",
    "    56\n",
    "   456\n",
    "  3456\n",
    " 23456\n",
    "123456"
   ]
  },
  {
   "cell_type": "code",
   "execution_count": 27,
   "id": "eafbbe5d-b985-4712-b81f-651aea3c4b8d",
   "metadata": {},
   "outputs": [
    {
     "name": "stdin",
     "output_type": "stream",
     "text": [
      " 5\n"
     ]
    },
    {
     "name": "stdout",
     "output_type": "stream",
     "text": [
      "12345\n",
      " 2345\n",
      "  345\n",
      "   45\n",
      "    5\n",
      "   45\n",
      "  345\n",
      " 2345\n",
      "12345\n"
     ]
    }
   ],
   "source": [
    "n = int(input())\n",
    "for i in range(1, n+1):\n",
    "    for j in range(i-1):\n",
    "    # while j <= i-1:\n",
    "        print(\" \", end = '')\n",
    "        # j += 1\n",
    "    for j in range(i, n+1):\n",
    "        print(j, end = '')\n",
    "    print()\n",
    "for i in range(1, n):\n",
    "    for j in range(1, n-i, 1):\n",
    "        print(' ', end = '')\n",
    "    for j in range(i+1):\n",
    "        print(n- i + j, end = '')\n",
    "    print()\n",
    "        "
   ]
  },
  {
   "cell_type": "markdown",
   "id": "1cdb8494-9df5-4aa9-99f0-9434a1b9f6c3",
   "metadata": {},
   "source": [
    "##### -------------------------------------------------------------------------------------------------------------------------------------------------------------------------------"
   ]
  },
  {
   "cell_type": "raw",
   "id": "a6f2334c-5d6e-4f58-a04d-2114b9553771",
   "metadata": {},
   "source": [
    "Diamond of Stars\n",
    "Print the following pattern for the given number of rows.\n",
    "Note: N is always odd.\n",
    "\n",
    "\n",
    "Pattern for N = 5\n",
    "\n",
    "  *\n",
    " ***\n",
    "*****\n",
    " ***\n",
    "  *"
   ]
  },
  {
   "cell_type": "code",
   "execution_count": 28,
   "id": "afe88b11-7921-411f-a45d-f89b7764d2ee",
   "metadata": {},
   "outputs": [
    {
     "name": "stdin",
     "output_type": "stream",
     "text": [
      " 5\n"
     ]
    },
    {
     "name": "stdout",
     "output_type": "stream",
     "text": [
      "  *\n",
      " ***\n",
      "*****\n",
      " ***\n",
      "  *\n"
     ]
    }
   ],
   "source": [
    "N = int(input())\n",
    "n = (N+1)//2\n",
    "for i in range(1,n+1):\n",
    "    for j in range(1,n-i+1):\n",
    "        print(' ', end = '')\n",
    "    for j in range(i):\n",
    "        print('*', end = '')\n",
    "    for j in range(i-1):\n",
    "        print('*', end ='')\n",
    "    print()\n",
    "\n",
    "for i in range(1, n):\n",
    "    for j in range(i):\n",
    "        print(' ', end = '')\n",
    "    for j in range(n - i):\n",
    "        print('*', end = '')\n",
    "    for j in range(n - i - 1):\n",
    "        print('*', end = '')\n",
    "    print()"
   ]
  },
  {
   "cell_type": "markdown",
   "id": "024f396d-0e54-45db-8084-8e61dc0909af",
   "metadata": {},
   "source": [
    "##### -------------------------------------------------------------------------------------------------------------------------------------------------------------------------------"
   ]
  },
  {
   "cell_type": "raw",
   "id": "92c5e2a3-36da-414e-939b-35eae422f6e6",
   "metadata": {},
   "source": [
    "Rectangular Numbers\n",
    "Print the following pattern for the given number of rows.\n",
    "Pattern for N = 4\n",
    "4444444\n",
    "4333334\n",
    "4322234\n",
    "4321234\n",
    "4322234\n",
    "4333334  \n",
    "4444444"
   ]
  },
  {
   "cell_type": "code",
   "execution_count": 18,
   "id": "b3681ec5-edda-4bac-873a-7c0536ca93b4",
   "metadata": {},
   "outputs": [
    {
     "name": "stdin",
     "output_type": "stream",
     "text": [
      " 6\n"
     ]
    },
    {
     "name": "stdout",
     "output_type": "stream",
     "text": [
      "66666666666\n",
      "65555555556\n",
      "65444444456\n",
      "65433333456\n",
      "65432223456\n",
      "65432123456\n",
      "65432223456\n",
      "65433333456\n",
      "65444444456\n",
      "65555555556\n",
      "66666666666\n"
     ]
    }
   ],
   "source": [
    "n = int(input())\n",
    "for i in range(1,n+1):\n",
    "    for j in range(1,i):\n",
    "        print(n - j + 1, end = '')\n",
    "    for j in range(i, n + 1):\n",
    "        print(n - i + 1, end = '')\n",
    "    for j in range(1, n-i+1):\n",
    "        print(n - i + 1, end = '')\n",
    "    for j in range(1,i):\n",
    "        print(n - i + j + 1, end = '')\n",
    "    print()\n",
    "n2 = n - 1\n",
    "for i in range(1, n):\n",
    "    for j in range(1, n2 - i + 1):\n",
    "        print(n - j + 1, end = '')\n",
    "    for j in range(1, i+2):\n",
    "        print(i + 1, end = '')\n",
    "    for j in range(i):\n",
    "        print(i + 1, end = '')\n",
    "    for j in range(1, n-i):\n",
    "        print(i + j + 1, end = '')\n",
    "    print()"
   ]
  },
  {
   "cell_type": "markdown",
   "id": "d69360c7-2404-4de7-bb41-84fd99b1c314",
   "metadata": {},
   "source": [
    "##### -------------------------------------------------------------------------------------------------------------------------------------------------------------------------------"
   ]
  },
  {
   "cell_type": "raw",
   "id": "b4be23a1-5aa5-4d27-b622-20bac8d9b5cc",
   "metadata": {},
   "source": [
    "Print the following pattern for the given number of rows.\n",
    "Pattern for N = 5\n",
    " 1    2   3    4   5\n",
    " 11   12  13   14  15\n",
    " 21   22  23   24  25\n",
    " 16   17  18   19  20\n",
    " 6    7    8   9   10\n",
    "Input format : N (Total no. of rows)\n",
    "\n",
    "Output format : Pattern in N lines\n",
    "\n",
    "Sample Input :\n",
    "4\n",
    "Sample Output :\n",
    " 1  2  3  4\n",
    " 9 10 11 12\n",
    "13 14 15 16\n",
    " 5  6  7  8"
   ]
  },
  {
   "cell_type": "code",
   "execution_count": 16,
   "id": "16a0a1fb-bcef-46ea-9547-1083475151c6",
   "metadata": {},
   "outputs": [
    {
     "name": "stdin",
     "output_type": "stream",
     "text": [
      " 6\n"
     ]
    },
    {
     "name": "stdout",
     "output_type": "stream",
     "text": [
      "1  2  3  4  5  6  \n",
      "13  14  15  16  17  18  \n",
      "25  26  27  28  29  30  \n",
      "31  32  33  34  35  36  \n",
      "19  20  21  22  23  24  \n",
      "7  8  9  10  11  12  \n"
     ]
    }
   ],
   "source": [
    "n = int(input())\n",
    "start = 1\n",
    "for row in range(1, n+1):\n",
    "    for col in range(start, start+n):\n",
    "        print(col, end = '  ')\n",
    "    print()\n",
    "    if row == (n+1)//2:\n",
    "        if n%2 != 0:\n",
    "            start = n*(n-2) + 1\n",
    "        else:\n",
    "            start = n*(n-1) + 1\n",
    "    elif row > (n+1)//2:\n",
    "        start = start - 2 * n\n",
    "    else:\n",
    "        start = start + 2 * n\n",
    "    "
   ]
  },
  {
   "cell_type": "markdown",
   "id": "1e509f7e-2b90-4579-a798-b0849d22a490",
   "metadata": {},
   "source": [
    "##### -------------------------------------------------------------------------------------------------------------------------------------------------------------------------------"
   ]
  }
 ],
 "metadata": {
  "kernelspec": {
   "display_name": "Python 3 (ipykernel)",
   "language": "python",
   "name": "python3"
  },
  "language_info": {
   "codemirror_mode": {
    "name": "ipython",
    "version": 3
   },
   "file_extension": ".py",
   "mimetype": "text/x-python",
   "name": "python",
   "nbconvert_exporter": "python",
   "pygments_lexer": "ipython3",
   "version": "3.10.4"
  }
 },
 "nbformat": 4,
 "nbformat_minor": 5
}
