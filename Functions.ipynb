{
 "cells": [
  {
   "cell_type": "markdown",
   "id": "2a092d20-dc0b-44d0-b2c9-c649c20edba3",
   "metadata": {},
   "source": [
    "##### -------------------------------------------------------------------------------------------------------------------------------------------------------------------------------"
   ]
  },
  {
   "cell_type": "markdown",
   "id": "a4004d31-420a-4b9e-a6e5-8d131f020d5f",
   "metadata": {},
   "source": [
    "#### ***Functions***"
   ]
  },
  {
   "cell_type": "markdown",
   "id": "c1108697-2ad1-4d25-b292-2dd0ea31ffc6",
   "metadata": {},
   "source": [
    "##### -------------------------------------------------------------------------------------------------------------------------------------------------------------------------------"
   ]
  },
  {
   "cell_type": "code",
   "execution_count": 1,
   "id": "30c58f95-5ca8-4534-aea7-933a57d4ffdf",
   "metadata": {},
   "outputs": [
    {
     "name": "stdin",
     "output_type": "stream",
     "text": [
      " 4\n",
      " 2\n"
     ]
    },
    {
     "name": "stdout",
     "output_type": "stream",
     "text": [
      "6\n"
     ]
    }
   ],
   "source": [
    "n = int(input())\n",
    "r = int(input())\n",
    "n_fact = 1\n",
    "for i in range (1, n+1):\n",
    "    n_fact = n_fact * i\n",
    "r_fact = 1\n",
    "for i in range (1, r+1):\n",
    "    r_fact = r_fact * i\n",
    "n_r_fact = 1\n",
    "for i in range (1, n - r + 1):\n",
    "    n_r_fact = n_r_fact * i\n",
    "ans = n_fact//(r_fact * n_r_fact)\n",
    "print(ans)\n",
    "\n",
    "# As we can see, code is repeated. \n",
    "# For not repeating code, we use function.\n",
    "# def function_name(argument)"
   ]
  },
  {
   "cell_type": "code",
   "execution_count": 34,
   "id": "439f5e67-8760-4cfa-9766-6be793067481",
   "metadata": {},
   "outputs": [
    {
     "name": "stdin",
     "output_type": "stream",
     "text": [
      " 6\n",
      " 4\n"
     ]
    },
    {
     "name": "stdout",
     "output_type": "stream",
     "text": [
      "15\n"
     ]
    }
   ],
   "source": [
    "def fact(a):\n",
    "    n_fact = 1\n",
    "    for i in range (1, a+1):\n",
    "        n_fact = n_fact * i\n",
    "    return (n_fact)\n",
    "n = int(input())\n",
    "r = int(input())\n",
    "n_fact = fact(n)\n",
    "r_fact = fact(r)\n",
    "n_r_fact =fact(n - r)\n",
    "ans = n_fact//(r_fact * n_r_fact)\n",
    "print(ans)\n",
    "\n",
    "# Whenever you will write function_name(arg)\n",
    "# Function will be called and it will return whatever you have put in return inside function.\n",
    "# Advantages of using function:\n",
    "# Avoids repetition, Increment in Readibility, Testing becomes easy"
   ]
  },
  {
   "cell_type": "markdown",
   "id": "2cf95455-1637-4d59-bfcf-13a5192f42b5",
   "metadata": {},
   "source": [
    "##### -------------------------------------------------------------------------------------------------------------------------------------------------------------------------------"
   ]
  },
  {
   "cell_type": "code",
   "execution_count": 31,
   "id": "c6b9eef0-6fe6-421e-95fd-afc1736fdf0a",
   "metadata": {},
   "outputs": [],
   "source": [
    "# Check number is Prime or not\n",
    "def isPrime(n):\n",
    "    for d in range(2, n):\n",
    "        if (n%d == 0):\n",
    "            break\n",
    "    else:\n",
    "        return True\n",
    "    return False\n",
    "# isPrime(10)"
   ]
  },
  {
   "cell_type": "code",
   "execution_count": 29,
   "id": "658d067e-6f1d-4114-844e-ffafe2ca1d83",
   "metadata": {},
   "outputs": [],
   "source": [
    "# Print all prime till n\n",
    "def primes(n):\n",
    "    for k in range(2, n+1):\n",
    "        #check if k is prime and in case it is prime, we print k\n",
    "        is_k_prime = isPrime(k)\n",
    "        if (is_k_prime):\n",
    "            print(k)"
   ]
  },
  {
   "cell_type": "code",
   "execution_count": 33,
   "id": "c497a504-ce98-4cb8-8f99-e2ded802c80e",
   "metadata": {},
   "outputs": [
    {
     "name": "stdout",
     "output_type": "stream",
     "text": [
      "2\n",
      "3\n",
      "5\n",
      "7\n",
      "11\n",
      "13\n",
      "17\n",
      "19\n",
      "23\n",
      "29\n",
      "31\n"
     ]
    }
   ],
   "source": [
    "primes(31)\n"
   ]
  },
  {
   "cell_type": "markdown",
   "id": "99f2a6e3-021a-4714-beb4-ddc478069f79",
   "metadata": {},
   "source": [
    "##### -------------------------------------------------------------------------------------------------------------------------------------------------------------------------------"
   ]
  },
  {
   "cell_type": "code",
   "execution_count": 35,
   "id": "49d0432b-9358-472f-9019-e627adc6e140",
   "metadata": {},
   "outputs": [],
   "source": [
    "def ncr(n, r):\n",
    "    n_fact = fact(n)\n",
    "    r_fact = fact(r)\n",
    "    n_r_fact =fact(n - r)\n",
    "    ans = n_fact//(r_fact * n_r_fact)\n",
    "    return ans"
   ]
  },
  {
   "cell_type": "code",
   "execution_count": 36,
   "id": "b693a826-b720-4188-b532-873995c9bfd5",
   "metadata": {},
   "outputs": [
    {
     "data": {
      "text/plain": [
       "10"
      ]
     },
     "execution_count": 36,
     "metadata": {},
     "output_type": "execute_result"
    }
   ],
   "source": [
    "ncr(5,2)"
   ]
  },
  {
   "cell_type": "markdown",
   "id": "f05f21dc-00db-4750-9991-17b90cd84553",
   "metadata": {},
   "source": [
    "##### -------------------------------------------------------------------------------------------------------------------------------------------------------------------------------"
   ]
  },
  {
   "cell_type": "code",
   "execution_count": 37,
   "id": "4e501215-d3ae-4bda-83ef-9e6d75f5b9f9",
   "metadata": {},
   "outputs": [
    {
     "name": "stdout",
     "output_type": "stream",
     "text": [
      "5\n"
     ]
    }
   ],
   "source": [
    "# Predict the output\n",
    "def func(a):\n",
    "    a = a + 10\n",
    "    return a\n",
    "a = 5\n",
    "func(a)\n",
    "print(a)"
   ]
  },
  {
   "cell_type": "code",
   "execution_count": 3,
   "id": "d72f9703-0f34-4014-827f-44eb71c121d7",
   "metadata": {},
   "outputs": [
    {
     "name": "stdout",
     "output_type": "stream",
     "text": [
      "AS\n",
      "BS\n",
      "CS\n",
      "CE\n",
      "BE\n",
      "AE\n",
      "*\n",
      "BS\n",
      "CS\n",
      "CE\n",
      "BE\n",
      "*\n",
      "CS\n",
      "CE\n"
     ]
    }
   ],
   "source": [
    "def A():\n",
    "    print('AS')\n",
    "    B()\n",
    "    print('AE')\n",
    "def B():\n",
    "    print('BS')\n",
    "    C()\n",
    "    print('BE')\n",
    "def C():\n",
    "    print(\"CS\")\n",
    "    print('CE')\n",
    "    \n",
    "A();print('*');B();print('*');C()\n",
    "\n",
    "# function can be called inside other function if it is defined below"
   ]
  },
  {
   "cell_type": "markdown",
   "id": "e99582dd-d3cd-41c7-9f57-6e3e876d0bd8",
   "metadata": {},
   "source": [
    "##### -------------------------------------------------------------------------------------------------------------------------------------------------------------------------------"
   ]
  },
  {
   "cell_type": "markdown",
   "id": "ea0bd247-a388-43ca-970b-16608d038c17",
   "metadata": {},
   "source": [
    "#### ***Scope of Variable***"
   ]
  },
  {
   "cell_type": "raw",
   "id": "87b4a1c4-f824-4bc3-ae03-ab46c8958ebb",
   "metadata": {},
   "source": [
    "Local Variable: defined inside a function\n",
    "\n",
    "Global Variable: defined outside any function."
   ]
  },
  {
   "cell_type": "code",
   "execution_count": 8,
   "id": "0c81ae41-40a5-48fa-b54a-158247be5d26",
   "metadata": {},
   "outputs": [
    {
     "name": "stdout",
     "output_type": "stream",
     "text": [
      "10\n",
      "12\n"
     ]
    },
    {
     "ename": "NameError",
     "evalue": "name 'b1' is not defined",
     "output_type": "error",
     "traceback": [
      "\u001b[1;31m---------------------------------------------------------------------------\u001b[0m",
      "\u001b[1;31mNameError\u001b[0m                                 Traceback (most recent call last)",
      "Input \u001b[1;32mIn [8]\u001b[0m, in \u001b[0;36m<cell line: 7>\u001b[1;34m()\u001b[0m\n\u001b[0;32m      5\u001b[0m \u001b[38;5;28mprint\u001b[39m(a1)\n\u001b[0;32m      6\u001b[0m f1()\n\u001b[1;32m----> 7\u001b[0m \u001b[38;5;28mprint\u001b[39m(\u001b[43mb1\u001b[49m)\n",
      "\u001b[1;31mNameError\u001b[0m: name 'b1' is not defined"
     ]
    }
   ],
   "source": [
    "a1 = 10  # global variable\n",
    "def f1():\n",
    "    b1 = 12\n",
    "    print(b1)\n",
    "print(a1)\n",
    "f1()\n",
    "print(b1)   # it will produce NameError\n",
    "# even after calling the function b1 is producing NameError\n",
    "# the reason is that b1 is local variable\n",
    "# cannot print local variable outside the function"
   ]
  },
  {
   "cell_type": "code",
   "execution_count": 9,
   "id": "24a6169c-07f3-488a-8623-4818ef97f6fc",
   "metadata": {},
   "outputs": [
    {
     "name": "stdout",
     "output_type": "stream",
     "text": [
      "10\n",
      "12\n",
      "10\n"
     ]
    }
   ],
   "source": [
    "a2 = 10  # global variable\n",
    "def f2():\n",
    "    b2 = 12\n",
    "    print(b2)\n",
    "    print(a2)\n",
    "print(a2)\n",
    "f2()"
   ]
  },
  {
   "cell_type": "code",
   "execution_count": 5,
   "id": "433ceb2e-ff24-47ac-b23b-55d06fa0082a",
   "metadata": {},
   "outputs": [
    {
     "name": "stdout",
     "output_type": "stream",
     "text": [
      "10\n",
      "12\n",
      "10\n"
     ]
    }
   ],
   "source": [
    "# you can access any global variable defined before the function call\n",
    "def f3():\n",
    "    b3 = 12\n",
    "    print(b3)\n",
    "    print(a3)\n",
    "    # print(c3)\n",
    "a3 = 10  # global variable\n",
    "print(a3)\n",
    "f3()\n",
    "# c3 = 4\n",
    "# it gave error too as a4 is defined after calling the function."
   ]
  },
  {
   "cell_type": "code",
   "execution_count": 4,
   "id": "249fd9bf-65c7-4dfc-920b-3c50d2b54abc",
   "metadata": {},
   "outputs": [
    {
     "name": "stdout",
     "output_type": "stream",
     "text": [
      "13\n",
      "1677134004848\n",
      "12\n",
      "1677134004816\n",
      "13\n",
      "1677134004848\n"
     ]
    }
   ],
   "source": [
    "a4 = 13\n",
    "def f4():\n",
    "    a4 = 12    # although variable is same but it is inside function.\n",
    "    print(a4)  # So python interprets that you are creating a local variable.\n",
    "    print(id(a4))   # See the address in output and guess what happened.\n",
    "print(a4)\n",
    "print(id(a4))\n",
    "f4()\n",
    "print(a4)\n",
    "print(id(a4))"
   ]
  },
  {
   "cell_type": "code",
   "execution_count": 10,
   "id": "9b0ec623-0f7d-4ad5-844f-18b377c051d1",
   "metadata": {},
   "outputs": [
    {
     "name": "stdout",
     "output_type": "stream",
     "text": [
      "13\n",
      "12\n",
      "1677134004816\n",
      "12\n",
      "1677134004816\n",
      "11\n",
      "1677134004784\n"
     ]
    }
   ],
   "source": [
    "a4 = 13\n",
    "def f4():\n",
    "    global a4\n",
    "    a4 -=1\n",
    "    print(a4)\n",
    "    print(id(a4))\n",
    "print(a4)\n",
    "f4()\n",
    "print(a4)\n",
    "print(id(a4))\n",
    "f4()\n",
    "# to make changes in global variable inside a function; we need to specify that as global\n",
    "# see the output to analyze the changes from code done just before"
   ]
  },
  {
   "cell_type": "code",
   "execution_count": 23,
   "id": "8b36bb65-63ac-4ab0-bc46-de35a7847678",
   "metadata": {},
   "outputs": [
    {
     "name": "stdout",
     "output_type": "stream",
     "text": [
      "10\n",
      "10\n"
     ]
    }
   ],
   "source": [
    "def f():\n",
    "    b = 10\n",
    "    return b\n",
    "print(f())\n",
    "x = f()  \n",
    "print(x)\n",
    "# if you want to use local variable outside of function:\n",
    "# assign it to a new variable "
   ]
  },
  {
   "cell_type": "markdown",
   "id": "9d50fe2b-6d1c-4960-8690-fccb3ef7d162",
   "metadata": {
    "tags": []
   },
   "source": [
    "##### -------------------------------------------------------------------------------------------------------------------------------------------------------------------------------"
   ]
  },
  {
   "cell_type": "code",
   "execution_count": 14,
   "id": "a527763c-53ad-4ad7-af80-49974acfe306",
   "metadata": {},
   "outputs": [
    {
     "name": "stdout",
     "output_type": "stream",
     "text": [
      "14\n"
     ]
    }
   ],
   "source": [
    "# Predict the output:\n",
    "a = 14\n",
    "def f():\n",
    "    a=12\n",
    "f()\n",
    "print(a)"
   ]
  },
  {
   "cell_type": "code",
   "execution_count": 15,
   "id": "57aeb50c-c46a-4c49-9e16-f7b5255b211d",
   "metadata": {},
   "outputs": [
    {
     "name": "stdout",
     "output_type": "stream",
     "text": [
      "12\n"
     ]
    }
   ],
   "source": [
    "# Predict the output:\n",
    "a=14\n",
    "def f():\n",
    "    global a\n",
    "    a=12\n",
    "f()\n",
    "print(a)"
   ]
  },
  {
   "cell_type": "code",
   "execution_count": 17,
   "id": "3c920f63-b50d-473b-a736-acc66c671d45",
   "metadata": {},
   "outputs": [
    {
     "name": "stdout",
     "output_type": "stream",
     "text": [
      "12\n"
     ]
    }
   ],
   "source": [
    "a = 14\n",
    "def f():\n",
    "    a = 12\n",
    "    return a\n",
    "a = f()   # here value of local a is assigned to global variable a\n",
    "print(a)"
   ]
  },
  {
   "cell_type": "markdown",
   "id": "bf1b4547-1199-4e56-a220-ab2ee65d32ea",
   "metadata": {},
   "source": [
    "##### -------------------------------------------------------------------------------------------------------------------------------------------------------------------------------"
   ]
  },
  {
   "cell_type": "markdown",
   "id": "c687d478-2554-4ed7-824d-5f18b6070b34",
   "metadata": {},
   "source": [
    "#### ***Default parameters in functions:"
   ]
  },
  {
   "cell_type": "code",
   "execution_count": 21,
   "id": "7f98fd58-dd1c-4fc7-8674-20d288490769",
   "metadata": {},
   "outputs": [
    {
     "name": "stdout",
     "output_type": "stream",
     "text": [
      "Hello\n"
     ]
    }
   ],
   "source": [
    "def f(n):\n",
    "    print(n)\n",
    "# f()  as function takes 1 positional argument\n",
    "# f(2, 3) as function takes 1 pos. arg but 2 are given.\n",
    "f('Hello')"
   ]
  },
  {
   "cell_type": "code",
   "execution_count": 26,
   "id": "21ff1355-6506-48e8-8009-16053a04123f",
   "metadata": {},
   "outputs": [
    {
     "name": "stdout",
     "output_type": "stream",
     "text": [
      "9\n",
      "7\n"
     ]
    }
   ],
   "source": [
    "# def sum(a, b):\n",
    "#     return a + b\n",
    "# def sum1(a, b, c):\n",
    "#     return a+b+c\n",
    "def sum(a, b, c = 0):\n",
    "    return a + b + c\n",
    "print(sum(2, 3, 4))\n",
    "print(sum(3, 4))\n",
    "# print(sum(1, 2,3 ,4))   will give error"
   ]
  },
  {
   "cell_type": "code",
   "execution_count": 28,
   "id": "bdf8917d-fd52-444a-938f-e3e3f5960074",
   "metadata": {},
   "outputs": [
    {
     "ename": "SyntaxError",
     "evalue": "non-default argument follows default argument (379386450.py, line 3)",
     "output_type": "error",
     "traceback": [
      "\u001b[1;36m  Input \u001b[1;32mIn [28]\u001b[1;36m\u001b[0m\n\u001b[1;33m    def sum(a = 0, b, c):\u001b[0m\n\u001b[1;37m                   ^\u001b[0m\n\u001b[1;31mSyntaxError\u001b[0m\u001b[1;31m:\u001b[0m non-default argument follows default argument\n"
     ]
    }
   ],
   "source": [
    "# Put all default argument after non-default agrument.\n",
    "# Otherwise it will give error\n",
    "def sum(a = 0, b, c):\n",
    "    return a + b + c\n",
    "sum(1,2)"
   ]
  },
  {
   "cell_type": "code",
   "execution_count": 32,
   "id": "68e1e8be-2bad-4c66-a565-6aba886fabb3",
   "metadata": {},
   "outputs": [
    {
     "name": "stdout",
     "output_type": "stream",
     "text": [
      "14\n",
      "7\n",
      "10\n",
      "13\n"
     ]
    }
   ],
   "source": [
    "def f1(a, b, c = 2, d = 0):\n",
    "    return a+b+c+d\n",
    "print(f1(2,3,4,5))    # 2 + 3 + 4 + 5\n",
    "print(f1(2,3))        # 2 + 3 + 2\n",
    "print(f1(2,3,5))      # 2 + 3 + 5\n",
    "\n",
    "print(f1(2,3,d=6))    # 2 + 3 + 2 + 6"
   ]
  },
  {
   "cell_type": "code",
   "execution_count": null,
   "id": "487db9ca-3826-45f5-8740-ba36623d1aaa",
   "metadata": {},
   "outputs": [],
   "source": [
    "def f(a = 0, b, c):\n",
    "    return a + b + c\n"
   ]
  },
  {
   "cell_type": "markdown",
   "id": "af755358-feea-4a1b-8af3-8d1304e31b64",
   "metadata": {},
   "source": [
    "##### -------------------------------------------------------------------------------------------------------------------------------------------------------------------------------"
   ]
  },
  {
   "cell_type": "code",
   "execution_count": 33,
   "id": "7fdd4eb6-e23c-4abb-b1cc-73aa4f023f13",
   "metadata": {},
   "outputs": [
    {
     "name": "stdout",
     "output_type": "stream",
     "text": [
      "21\n"
     ]
    }
   ],
   "source": [
    "def function(a,b,c=1):\n",
    "    return a+b-c\n",
    "value = function(10,12)\n",
    "print(value)"
   ]
  },
  {
   "cell_type": "markdown",
   "id": "a862766a-4092-4626-abbc-30a7f32a3347",
   "metadata": {},
   "source": [
    "##### -------------------------------------------------------------------------------------------------------------------------------------------------------------------------------"
   ]
  },
  {
   "cell_type": "code",
   "execution_count": 34,
   "id": "b605a4f0-dd14-45f2-a74f-5c58a480586f",
   "metadata": {},
   "outputs": [
    {
     "name": "stdout",
     "output_type": "stream",
     "text": [
      "17\n"
     ]
    }
   ],
   "source": [
    "def function(a,b,c=1):\n",
    "    return a+b-c\n",
    "value = function(10,12,5)\n",
    "print(value)"
   ]
  },
  {
   "cell_type": "markdown",
   "id": "e5afe951-e2ee-4880-9937-15895be143ad",
   "metadata": {},
   "source": [
    "##### -------------------------------------------------------------------------------------------------------------------------------------------------------------------------------"
   ]
  },
  {
   "cell_type": "code",
   "execution_count": 35,
   "id": "276cb4a8-aa69-4133-8307-b0d1ce1c3ae7",
   "metadata": {},
   "outputs": [
    {
     "name": "stdout",
     "output_type": "stream",
     "text": [
      "11\n"
     ]
    }
   ],
   "source": [
    "def function(a,b,c=1,d=5):\n",
    "    return a+b+c+d\n",
    "value = function(1,2,d=7)\n",
    "print(value)"
   ]
  },
  {
   "cell_type": "markdown",
   "id": "94888183-8e80-444f-8423-9ff0f49054a5",
   "metadata": {},
   "source": [
    "##### -------------------------------------------------------------------------------------------------------------------------------------------------------------------------------"
   ]
  },
  {
   "cell_type": "raw",
   "id": "f6223cd5-55b5-4f4e-94c6-b4b554457dfa",
   "metadata": {},
   "source": [
    "Given three values - Start Fahrenheit Value (S), End Fahrenheit value (E) and Step Size (W), you need to convert all Fahrenheit values from Start to End at the gap of W, into their corresponding Celsius values and print the table.\n",
    "\n",
    "Input Format :\n",
    "3 integers - S, E and W respectively\n",
    "\n",
    "Output Format :\n",
    "Fahrenheit to Celsius conversion table. One line for every Fahrenheit and Celsius Fahrenheit value. Fahrenheit value and its corresponding Celsius value should be separate by tab (\"\\t\")"
   ]
  },
  {
   "cell_type": "code",
   "execution_count": 8,
   "id": "d4ca37cd-5287-414d-8013-cb5157bc48f6",
   "metadata": {},
   "outputs": [
    {
     "name": "stdin",
     "output_type": "stream",
     "text": [
      " 0\n",
      " 100\n",
      " 20\n"
     ]
    },
    {
     "name": "stdout",
     "output_type": "stream",
     "text": [
      "0 \t -17\n",
      "20 \t -6\n",
      "40 \t 4\n",
      "60 \t 15\n",
      "80 \t 26\n",
      "100 \t 37\n",
      "\n"
     ]
    }
   ],
   "source": [
    "def printTable(start, end, step):\n",
    "    for fah in range(start, end+1, step):\n",
    "        cel = int((fah - 32) * 5 / 9)\n",
    "        print(fah, \"\\t\", cel)\n",
    "    print()\n",
    "\n",
    "s = int(input())\n",
    "e = int(input())\n",
    "step = int(input())\n",
    "printTable(s, e, step)"
   ]
  },
  {
   "cell_type": "markdown",
   "id": "7982cf40-25ef-42b7-862f-bae5e275337c",
   "metadata": {},
   "source": [
    "##### -------------------------------------------------------------------------------------------------------------------------------------------------------------------------------"
   ]
  },
  {
   "cell_type": "raw",
   "id": "8aca9e05-3bcc-45d8-b555-b524477f150d",
   "metadata": {},
   "source": [
    "Given a number N, figure out if it is a member of fibonacci series or not. Return true if the number is member of fibonacci series else false.\n",
    "Fibonacci Series is defined by the recurrence\n",
    "    F(n) = F(n-1) + F(n-2)\n",
    "where F(0) = 0 and F(1) = 1"
   ]
  },
  {
   "cell_type": "code",
   "execution_count": 70,
   "id": "d2265052-06b1-4d99-a26b-440c6134f446",
   "metadata": {},
   "outputs": [
    {
     "name": "stdin",
     "output_type": "stream",
     "text": [
      " 4\n"
     ]
    },
    {
     "name": "stdout",
     "output_type": "stream",
     "text": [
      "false\n"
     ]
    }
   ],
   "source": [
    "def checkMember(N): \n",
    "    f1 = 1\n",
    "    f2 = 1\n",
    "    sum = 0\n",
    "    flag = False\n",
    "    while sum < N:\n",
    "        sum = f1 + f2\n",
    "        f1 = f2\n",
    "        f2 = sum\n",
    "        if sum == N:\n",
    "            flag = True\n",
    "    if (N == 0) or (N == 1) or (flag == True):\n",
    "        flag = True\n",
    "    # else:\n",
    "    #     flag = False\n",
    "    return flag\n",
    "        \n",
    "N = int(input())\n",
    "if(checkMember(N)):\n",
    "    print(\"true\")\n",
    "else:\n",
    "    print(\"false\")"
   ]
  },
  {
   "cell_type": "markdown",
   "id": "0fb2e1b9-f016-43fb-a66b-7d6f70f1c22f",
   "metadata": {},
   "source": [
    "##### -------------------------------------------------------------------------------------------------------------------------------------------------------------------------------"
   ]
  },
  {
   "cell_type": "raw",
   "id": "e28bff68-532c-47fd-9ec6-969485f87f75",
   "metadata": {},
   "source": [
    "Write a program to determine if given number is palindrome or not. Print true if it is palindrome, false otherwise.\n",
    "\n",
    "Palindrome are the numbers for which reverse is exactly same as the original one. For eg. 121"
   ]
  },
  {
   "cell_type": "code",
   "execution_count": 59,
   "id": "2bab7300-e2f6-4a1d-b236-f64ca30a4027",
   "metadata": {},
   "outputs": [
    {
     "name": "stdin",
     "output_type": "stream",
     "text": [
      " 1221\n"
     ]
    },
    {
     "name": "stdout",
     "output_type": "stream",
     "text": [
      "true\n"
     ]
    }
   ],
   "source": [
    "def checkPalindrome(num):\n",
    "    temp = num\n",
    "    rev = 0\n",
    "    flag = False\n",
    "    while temp != 0:\n",
    "        rem = temp % 10\n",
    "        rev = (rev * 10) + rem\n",
    "        temp = temp // 10\n",
    "    if num == rev:\n",
    "        flag = True\n",
    "    return flag\n",
    "#Implement Your Code Here\n",
    "\t\t\n",
    "num = int(input())\n",
    "isPalindrome = checkPalindrome(num)\n",
    "if(isPalindrome):\n",
    "\tprint('true')\n",
    "else:\n",
    "\tprint('false')"
   ]
  },
  {
   "cell_type": "markdown",
   "id": "1b19e3ee-b24c-4743-9e3a-67c4b51fc3f4",
   "metadata": {},
   "source": [
    "##### -------------------------------------------------------------------------------------------------------------------------------------------------------------------------------"
   ]
  },
  {
   "cell_type": "code",
   "execution_count": 11,
   "id": "161cad5b-2e01-47b1-a9a9-ef2a496929e7",
   "metadata": {},
   "outputs": [
    {
     "name": "stdin",
     "output_type": "stream",
     "text": [
      " 1634\n"
     ]
    },
    {
     "name": "stdout",
     "output_type": "stream",
     "text": [
      "true\n"
     ]
    }
   ],
   "source": [
    "def checkArmstrong(num):\n",
    "    temp = str(num)\n",
    "    length = len(temp)\n",
    "    flag = False\n",
    "    sum = 0\n",
    "    for i in temp:\n",
    "        sum += int(i) ** length\n",
    "    if sum == num:\n",
    "        flag = True\n",
    "    return flag\n",
    "\n",
    "num = int(input())\n",
    "isArmstrong = checkArmstrong(num)\n",
    "if(isArmstrong):\n",
    "    print(\"true\")\n",
    "else:\n",
    "    print(\"false\")"
   ]
  }
 ],
 "metadata": {
  "kernelspec": {
   "display_name": "Python 3 (ipykernel)",
   "language": "python",
   "name": "python3"
  },
  "language_info": {
   "codemirror_mode": {
    "name": "ipython",
    "version": 3
   },
   "file_extension": ".py",
   "mimetype": "text/x-python",
   "name": "python",
   "nbconvert_exporter": "python",
   "pygments_lexer": "ipython3",
   "version": "3.10.4"
  }
 },
 "nbformat": 4,
 "nbformat_minor": 5
}
