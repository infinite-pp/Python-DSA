{
 "cells": [
  {
   "cell_type": "markdown",
   "id": "b3927005-07fe-428d-9e07-df036877541f",
   "metadata": {},
   "source": [
    "#### Print HelloWorld"
   ]
  },
  {
   "cell_type": "markdown",
   "id": "85f56101-a5ab-4d4f-8625-16d32f1e9139",
   "metadata": {},
   "source": [
    "print helloworld"
   ]
  },
  {
   "cell_type": "code",
   "execution_count": 1,
   "id": "5d9bba44-b511-4332-8931-54e6d49b3273",
   "metadata": {},
   "outputs": [
    {
     "name": "stdout",
     "output_type": "stream",
     "text": [
      "Hello World\n"
     ]
    }
   ],
   "source": [
    "print(\"Hello World\")"
   ]
  },
  {
   "cell_type": "markdown",
   "id": "47e8438c-321e-4ac5-9d98-09be02eded40",
   "metadata": {},
   "source": [
    "#### Variable"
   ]
  },
  {
   "cell_type": "code",
   "execution_count": 3,
   "id": "74151feb-c9c2-4dbe-ae1d-242da22f20be",
   "metadata": {},
   "outputs": [
    {
     "name": "stdout",
     "output_type": "stream",
     "text": [
      "30\n"
     ]
    }
   ],
   "source": [
    "a = 10\n",
    "b = 20\n",
    "sum = a + b\n",
    "print(sum)"
   ]
  },
  {
   "cell_type": "markdown",
   "id": "6988f4d0-fdc2-4a4f-b7f4-7404d049180c",
   "metadata": {},
   "source": [
    "#### Variable Naming"
   ]
  },
  {
   "cell_type": "code",
   "execution_count": 2,
   "id": "a879be1a-53be-47ea-ab2b-00d9e6624513",
   "metadata": {},
   "outputs": [],
   "source": [
    "abc = 45\n",
    "_12g = 12\n",
    "#12fr = 56  #produce error as var nam started with number"
   ]
  },
  {
   "cell_type": "markdown",
   "id": "b54251f5-a5a5-4a6d-869c-9fe96289b230",
   "metadata": {},
   "source": [
    "#### Assigning different type of data to a variable"
   ]
  },
  {
   "cell_type": "code",
   "execution_count": 3,
   "id": "160ec134-98b0-488c-b891-5e6250705848",
   "metadata": {},
   "outputs": [
    {
     "data": {
      "text/plain": [
       "'hthha'"
      ]
     },
     "execution_count": 3,
     "metadata": {},
     "output_type": "execute_result"
    }
   ],
   "source": [
    "a = 10\n",
    "a = 20\n",
    "a = \"hthha\"\n",
    "a"
   ]
  },
  {
   "cell_type": "code",
   "execution_count": 5,
   "id": "e23e5905-d60a-4bb1-b11a-4accf343f05d",
   "metadata": {},
   "outputs": [
    {
     "name": "stdout",
     "output_type": "stream",
     "text": [
      "<class 'str'>\n",
      "<class 'int'>\n"
     ]
    }
   ],
   "source": [
    "a = 'abc'\n",
    "print(type(a))\n",
    "a = 10\n",
    "print(type(a))"
   ]
  },
  {
   "cell_type": "markdown",
   "id": "1b8b96e2-106b-4744-8cd3-9b126be7a14d",
   "metadata": {},
   "source": [
    "#### Python Numbers"
   ]
  },
  {
   "cell_type": "code",
   "execution_count": 7,
   "id": "af7f505a-a27f-4a02-9a19-76db3fb8e165",
   "metadata": {},
   "outputs": [
    {
     "name": "stdout",
     "output_type": "stream",
     "text": [
      "<class 'int'>\n",
      "<class 'float'>\n",
      "<class 'complex'>\n"
     ]
    }
   ],
   "source": [
    "a1 = 23\n",
    "a2 = 3.4\n",
    "a3 = 4 + 5j\n",
    "# print(a1)\n",
    "# print(a2)\n",
    "# print(a3)\n",
    "print(type(a1))\n",
    "print(type(a2))\n",
    "print(type(a3))"
   ]
  },
  {
   "cell_type": "code",
   "execution_count": 13,
   "id": "8d201df7-3838-46ff-b550-b0fe0321041a",
   "metadata": {},
   "outputs": [
    {
     "name": "stdout",
     "output_type": "stream",
     "text": [
      "2672993042960\n",
      "2672993042992\n"
     ]
    }
   ],
   "source": [
    "a = 10\n",
    "print(id(a))  #id is used to get address i.e., unique\n",
    "a = a + 1\n",
    "print(id(a))"
   ]
  },
  {
   "cell_type": "code",
   "execution_count": 16,
   "id": "7aa2bb4a-4272-4f6c-a2db-e4c521809efd",
   "metadata": {},
   "outputs": [
    {
     "name": "stdout",
     "output_type": "stream",
     "text": [
      "2672993042960\n",
      "2672993042960\n",
      "2672993043312\n",
      "2672993042960\n",
      "2672993050832\n",
      "2672993050832\n",
      "2673070010224\n",
      "2673070009104\n"
     ]
    }
   ],
   "source": [
    "a = 10\n",
    "b = 10\n",
    "print(id(a))\n",
    "print(id(b))\n",
    "a = a+11\n",
    "print(id(a))\n",
    "print(id(b))\n",
    "# See how address changes and for same value, address is same.\n",
    "# for the numbers -5 to 256, address is same.\n",
    "a = 256\n",
    "b = 256\n",
    "print(id(a))\n",
    "print(id(b))\n",
    "a = 257\n",
    "b = 257\n",
    "print(id(a))\n",
    "print(id(b))"
   ]
  },
  {
   "cell_type": "markdown",
   "id": "c7422ed4-1278-42c7-b284-bc36cab58efd",
   "metadata": {},
   "source": [
    "#### Arithmetic Operators"
   ]
  },
  {
   "cell_type": "code",
   "execution_count": 21,
   "id": "8c6d517b-cf5d-4216-8695-5a61ccac45b4",
   "metadata": {},
   "outputs": [
    {
     "name": "stdout",
     "output_type": "stream",
     "text": [
      "6\n",
      "14\n",
      "40\n",
      "2.5\n",
      "2\n",
      "2\n",
      "10000\n",
      "14\n",
      "1.5\n",
      "1\n"
     ]
    }
   ],
   "source": [
    "# +  -  *  /  //  **  %\n",
    "a = 10\n",
    "b = 4\n",
    "print(a - b)\n",
    "print(a + b)\n",
    "print(a * b)\n",
    "print(a / b)  # floating point division\n",
    "print(a // b) # integer division\n",
    "print(a % b)\n",
    "print(a ** b) # exponentiation\n",
    "print(2 + 3 * 4)\n",
    "print(2 * 3 / 4) # doesn't matter what operation is done first\n",
    "print(2 * 3 // 4)"
   ]
  },
  {
   "cell_type": "code",
   "execution_count": 22,
   "id": "5059268e-a246-43d2-afec-483afe3b9d71",
   "metadata": {},
   "outputs": [
    {
     "name": "stdout",
     "output_type": "stream",
     "text": [
      "24.0\n"
     ]
    }
   ],
   "source": [
    "# Simple Interest to lower integer\n",
    "p = 100\n",
    "r = 12\n",
    "t = 2\n",
    "si = (p * r * t) // 100\n",
    "print(si)"
   ]
  },
  {
   "cell_type": "code",
   "execution_count": 23,
   "id": "7259a83b-6910-45ce-a503-0b2efd2d6021",
   "metadata": {},
   "outputs": [
    {
     "name": "stdout",
     "output_type": "stream",
     "text": [
      "37.77777777777778\n",
      "37\n"
     ]
    }
   ],
   "source": [
    "# Fah to Cel conversion\n",
    "f = 100\n",
    "c = (f - 32) * 5 / 9\n",
    "print(c)\n",
    "\n",
    "ci = (f-32) * 5 // 9\n",
    "print(ci)"
   ]
  },
  {
   "cell_type": "markdown",
   "id": "6a97e74f-cf49-4416-8c78-e7dfc71cb48b",
   "metadata": {},
   "source": [
    "#### input"
   ]
  },
  {
   "cell_type": "code",
   "execution_count": 31,
   "id": "66683101-7706-469a-b6f9-ecd6be483163",
   "metadata": {},
   "outputs": [
    {
     "name": "stdin",
     "output_type": "stream",
     "text": [
      " 23\n"
     ]
    },
    {
     "data": {
      "text/plain": [
       "int"
      ]
     },
     "execution_count": 31,
     "metadata": {},
     "output_type": "execute_result"
    }
   ],
   "source": [
    "a = int(input())\n",
    "type(a)\n",
    "\n",
    "# b = '34'\n",
    "# c = int(b)\n",
    "# print(c)\n",
    "# print(type(c))"
   ]
  },
  {
   "cell_type": "code",
   "execution_count": 32,
   "id": "bf3348d2-dd73-46c7-8713-5059a0518144",
   "metadata": {},
   "outputs": [
    {
     "name": "stdin",
     "output_type": "stream",
     "text": [
      " 23\n",
      " 34\n"
     ]
    },
    {
     "name": "stdout",
     "output_type": "stream",
     "text": [
      "<class 'int'>\n",
      "57\n"
     ]
    }
   ],
   "source": [
    "a = int(input())\n",
    "b = int(input())\n",
    "print(type(a))\n",
    "s = a + b\n",
    "print(s)"
   ]
  },
  {
   "cell_type": "markdown",
   "id": "7c19986b-4db8-4057-9e94-d7798e1e4035",
   "metadata": {},
   "source": [
    "#### Assignment Questions"
   ]
  },
  {
   "cell_type": "code",
   "execution_count": 33,
   "id": "86487c8c-7de0-45a4-bdc9-6adf7037586e",
   "metadata": {},
   "outputs": [
    {
     "name": "stdin",
     "output_type": "stream",
     "text": [
      " 10\n",
      " 4\n"
     ]
    },
    {
     "name": "stdout",
     "output_type": "stream",
     "text": [
      "10000\n"
     ]
    }
   ],
   "source": [
    "# Find X raised to power N\n",
    "X = int(input())\n",
    "N = int(input())\n",
    "\n",
    "print(X ** N)"
   ]
  },
  {
   "cell_type": "code",
   "execution_count": null,
   "id": "4233a0f1-0a6d-4764-b1bc-6a168b29b491",
   "metadata": {},
   "outputs": [],
   "source": [
    "# Find common difference of an A.P\n",
    "a = int(input())\n",
    "b = int(input())\n",
    "c = int(input())\n",
    "\n",
    "print(b - a)"
   ]
  },
  {
   "cell_type": "code",
   "execution_count": null,
   "id": "f5bb1f01-c306-4c70-82a6-bcb5ad3b41d8",
   "metadata": {},
   "outputs": [],
   "source": [
    "# Find rectangular area \n",
    "# co-ordinates of a diagonal are given\n",
    "x1 = int(input())\n",
    "y1 = int(input())\n",
    "x2 = int(input())\n",
    "y2 = int(input())\n",
    "\n",
    "print((x2 - x1) * (y2 - y1))"
   ]
  }
 ],
 "metadata": {
  "kernelspec": {
   "display_name": "Python 3 (ipykernel)",
   "language": "python",
   "name": "python3"
  },
  "language_info": {
   "codemirror_mode": {
    "name": "ipython",
    "version": 3
   },
   "file_extension": ".py",
   "mimetype": "text/x-python",
   "name": "python",
   "nbconvert_exporter": "python",
   "pygments_lexer": "ipython3",
   "version": "3.10.4"
  }
 },
 "nbformat": 4,
 "nbformat_minor": 5
}
