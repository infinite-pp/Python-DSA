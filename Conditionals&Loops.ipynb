{
 "cells": [
  {
   "cell_type": "code",
   "execution_count": 4,
   "id": "5c651894-d2c0-4144-9b31-8652fd621281",
   "metadata": {},
   "outputs": [
    {
     "name": "stdout",
     "output_type": "stream",
     "text": [
      "<class 'bool'>\n"
     ]
    }
   ],
   "source": [
    "a = True\n",
    "b = False\n",
    "\n",
    "c = 'Ninjas'\n",
    "c = True       #Only two type of bool data type: True and False in which 1st letter will be capital.\n",
    "print(type(c))"
   ]
  },
  {
   "cell_type": "markdown",
   "id": "381231bd-6b40-457d-a8d3-7ee19590c079",
   "metadata": {},
   "source": [
    "#### Relational Operators"
   ]
  },
  {
   "cell_type": "code",
   "execution_count": 5,
   "id": "3c604dd5-2be0-4e8f-957f-901090b9c5f2",
   "metadata": {},
   "outputs": [
    {
     "name": "stdout",
     "output_type": "stream",
     "text": [
      "False\n",
      "False\n",
      "True\n",
      "True\n",
      "False\n",
      "True\n"
     ]
    }
   ],
   "source": [
    "a = 10\n",
    "b = 20\n",
    "print(a > b)   #a is greater than b\n",
    "print(a >= b)  #a is greater or equal to b\n",
    "print(a < b)   #a is less than b\n",
    "print(a <= b)  #a is less or equal to b\n",
    "print(a == b)  #a is equal to b\n",
    "print(a != b)  #a is not equal to b \n"
   ]
  },
  {
   "cell_type": "markdown",
   "id": "5eccf77e-e2df-4792-9f43-76fcbefa5c23",
   "metadata": {},
   "source": [
    "#### Logical Operators"
   ]
  },
  {
   "cell_type": "code",
   "execution_count": 9,
   "id": "ac2cb3e1-c12f-42c1-acc7-a6cef6b005ef",
   "metadata": {},
   "outputs": [
    {
     "name": "stdout",
     "output_type": "stream",
     "text": [
      "False\n",
      "True\n",
      "True\n"
     ]
    }
   ],
   "source": [
    "c1 = a > 10   #a is assigned 10 in above cell\n",
    "c2 = b > 10   #similarly, b is assigned 20. Don't confuse about how vlaue is assigned.\n",
    "r1 = c1 and c2 #and operator:- all values have to be True for True\n",
    "r2 = c1 or c2  #or operator:- minimum one value have to be True for True\n",
    "r3 = not c1 #not operator:- negates the bool value\n",
    "print(r1)\n",
    "print(r2)\n",
    "print(r3)"
   ]
  },
  {
   "cell_type": "markdown",
   "id": "202c1072-9d0f-42f8-b291-2842fd40167c",
   "metadata": {},
   "source": [
    "#### If-Else Statements"
   ]
  },
  {
   "cell_type": "code",
   "execution_count": 10,
   "id": "2e805a3f-7995-49b8-a265-89e23464fd23",
   "metadata": {},
   "outputs": [
    {
     "name": "stdout",
     "output_type": "stream",
     "text": [
      "I am inside if\n"
     ]
    }
   ],
   "source": [
    "# if works like:-  if True:   ##then statement inside if will executed otherwise else will be executed.\n",
    "a = True\n",
    "if a:\n",
    "    print(\"I am inside if\")\n",
    "else:\n",
    "    print(\"I am in else\")"
   ]
  },
  {
   "cell_type": "code",
   "execution_count": 15,
   "id": "8a900653-453d-4b75-a5e2-8609d6fa01a8",
   "metadata": {},
   "outputs": [
    {
     "name": "stdin",
     "output_type": "stream",
     "text": [
      "Enter an integer:  45\n"
     ]
    },
    {
     "name": "stdout",
     "output_type": "stream",
     "text": [
      "Odd\n"
     ]
    }
   ],
   "source": [
    "# Check number to be odd or even\n",
    "n = int(input(\"Enter an integer: \"))\n",
    "\n",
    "# #r = n % 2\n",
    "# is_even = (n%2 ==0)\n",
    "\n",
    "# if is_even:\n",
    "#     print(\"Even\")\n",
    "# else:\n",
    "#     print(\"Odd\")\n",
    "\n",
    "if n % 2 == 0:\n",
    "    print(\"Even\")\n",
    "else:\n",
    "    print(\"Odd\")"
   ]
  },
  {
   "cell_type": "code",
   "execution_count": 17,
   "id": "f04d690d-be44-4f50-bd54-cc7e5c6f919e",
   "metadata": {},
   "outputs": [
    {
     "name": "stdin",
     "output_type": "stream",
     "text": [
      "Enter an integer:  44\n"
     ]
    },
    {
     "name": "stdout",
     "output_type": "stream",
     "text": [
      "n is even\n"
     ]
    }
   ],
   "source": [
    "n = int(input(\"Enter an integer: \"))\n",
    "if n % 2 == 0:\n",
    "    print(\"n is even\")\n",
    "#if n is odd then don't print anything. No need to use else here."
   ]
  },
  {
   "cell_type": "code",
   "execution_count": 18,
   "id": "c3525de8-31f0-40c1-9f84-b1851f8a3c58",
   "metadata": {},
   "outputs": [
    {
     "name": "stdout",
     "output_type": "stream",
     "text": [
      "medium\n"
     ]
    }
   ],
   "source": [
    "#Predict the output\n",
    "n = 15\n",
    "#Check If the number is between 1 to 10\n",
    "if n>=1 and n<=10:\n",
    "    print(\"too low\")\n",
    "\n",
    "#Check If the number is between 11 to 20\n",
    "elif n>=10 and n<=20:\n",
    "    print(\"medium\")\n",
    "\n",
    "#Check If the number is between 21 to 30\n",
    "elif n>=20 and n<=30:\n",
    "    print(\"large\")\n",
    "#Check if the number is greater than 30 \n",
    "else:\n",
    "    print(\"too large\")"
   ]
  },
  {
   "cell_type": "code",
   "execution_count": 19,
   "id": "d96c9b12-30b8-4657-840d-bbcc1aeb5190",
   "metadata": {},
   "outputs": [
    {
     "name": "stdout",
     "output_type": "stream",
     "text": [
      "Hello\n",
      "Hi\n"
     ]
    }
   ],
   "source": [
    "#Predict the output\n",
    "x = 5\n",
    "if x < 6:\n",
    "    print(\"Hello\")\n",
    "if x == 5:\n",
    "    print(\"Hi\")\n",
    "else:\n",
    "    print(\"Hey\")"
   ]
  },
  {
   "cell_type": "markdown",
   "id": "a0c04de5-6bc2-418d-849c-2042ddb695f1",
   "metadata": {},
   "source": [
    "#### Using Operators in if else"
   ]
  },
  {
   "cell_type": "code",
   "execution_count": 21,
   "id": "8385b967-c303-48a6-811a-d67d7341deba",
   "metadata": {},
   "outputs": [
    {
     "name": "stdin",
     "output_type": "stream",
     "text": [
      " 23\n",
      " 34\n"
     ]
    },
    {
     "name": "stdout",
     "output_type": "stream",
     "text": [
      "Both > 10\n"
     ]
    }
   ],
   "source": [
    "a = int(input())\n",
    "b = int(input())\n",
    "\n",
    "# c1 = a > 10\n",
    "# c2 = b > 10\n",
    "\n",
    "# r = c1 and c2\n",
    "if a > 10 and b > 10:\n",
    "    print(\"Both > 10\")\n",
    "else:\n",
    "    print(\"No they are not\")"
   ]
  },
  {
   "cell_type": "code",
   "execution_count": 24,
   "id": "9e313556-816f-4cbb-a96f-327919cf2315",
   "metadata": {},
   "outputs": [
    {
     "name": "stdin",
     "output_type": "stream",
     "text": [
      " 8\n"
     ]
    },
    {
     "name": "stdout",
     "output_type": "stream",
     "text": [
      "No, it's not 7\n"
     ]
    }
   ],
   "source": [
    "a = int(input())\n",
    "# if a == 7:\n",
    "#     print(\"it is 7\")\n",
    "# else:\n",
    "#     print(\"it is not 7\")\n",
    "# Alternative\n",
    "if a != 7:\n",
    "    print(\"No, it's not 7\")\n",
    "else:\n",
    "    print(\"it is 7\")"
   ]
  },
  {
   "cell_type": "markdown",
   "id": "c79a3fc0-162a-452a-a819-35321078310e",
   "metadata": {},
   "source": [
    "#### ELIF"
   ]
  },
  {
   "cell_type": "code",
   "execution_count": 36,
   "id": "42e42101-76af-4267-98a3-6a29893a300c",
   "metadata": {},
   "outputs": [
    {
     "name": "stdin",
     "output_type": "stream",
     "text": [
      " 4\n",
      " 3\n",
      " 4\n"
     ]
    },
    {
     "name": "stdout",
     "output_type": "stream",
     "text": [
      "4 is largest\n"
     ]
    }
   ],
   "source": [
    "# Check the largest\n",
    "a = int(input())\n",
    "b = int(input())\n",
    "c = int(input())\n",
    "\n",
    "# if a > b and a > c:\n",
    "\n",
    "#Now it will run perfectly\n",
    "if a >= b and a >= c:\n",
    "    print(a, \"is largest\")\n",
    "elif b > a and b > c:\n",
    "    print(b, \"is largest\")\n",
    "else:\n",
    "    print(c, \"is largest\")\n",
    "\n",
    "#This code will give wrong value if you will take same number more than once.\n",
    "#See the commented piece of if statement which has the bug."
   ]
  },
  {
   "cell_type": "code",
   "execution_count": 43,
   "id": "daefb318-4b0f-46a0-b9dd-98c759b910d1",
   "metadata": {},
   "outputs": [
    {
     "name": "stdin",
     "output_type": "stream",
     "text": [
      " 2\n"
     ]
    },
    {
     "name": "stdout",
     "output_type": "stream",
     "text": [
      "Yellow\n"
     ]
    }
   ],
   "source": [
    "n = int(input())\n",
    "\n",
    "if n > 10:\n",
    "    print(\"Red\")\n",
    "elif n >= 5: # and n <= 10:\n",
    "    print(\"Green\")\n",
    "elif n > 0: # and n < 5:\n",
    "    print(\"Yellow\")\n",
    "\n",
    "# See the commented and statements and think if it is necessary or not.\n"
   ]
  },
  {
   "cell_type": "code",
   "execution_count": 44,
   "id": "1237fe21-7f1b-4b69-81c5-ac7d707d99f8",
   "metadata": {},
   "outputs": [
    {
     "name": "stdin",
     "output_type": "stream",
     "text": [
      " 21\n"
     ]
    },
    {
     "name": "stdout",
     "output_type": "stream",
     "text": [
      "Green\n"
     ]
    }
   ],
   "source": [
    "n = int(input())\n",
    "\n",
    "if n >= 5:\n",
    "    print(\"Green\")\n",
    "elif n > 10:\n",
    "    print(\"Red\")\n",
    "elif n > 0:\n",
    "    print(\"Yellow\")\n",
    "\n",
    "# take input greater than 10, it should print red but it will print Green\n",
    "# Order of if_elif-else matter a lot\n",
    "# if upper condition is met then it will not lower code"
   ]
  },
  {
   "cell_type": "code",
   "execution_count": 46,
   "id": "f46dc192-5582-4e1b-b2c3-0d4e4f15ea2c",
   "metadata": {},
   "outputs": [
    {
     "name": "stdin",
     "output_type": "stream",
     "text": [
      " 0\n"
     ]
    },
    {
     "name": "stdout",
     "output_type": "stream",
     "text": [
      "Zero\n"
     ]
    }
   ],
   "source": [
    "#Check number is Positive, Negative or Zero\n",
    "n = int(input())\n",
    "\n",
    "if n > 0:\n",
    "    print(\"Positive\")\n",
    "elif n < 0:\n",
    "    print(\"Negative\")\n",
    "else:\n",
    "    print(\"Zero\")"
   ]
  },
  {
   "cell_type": "markdown",
   "id": "a8d9852d-79c7-4280-b974-9d03949cd7fc",
   "metadata": {},
   "source": [
    "#### Nested IF ELSE"
   ]
  },
  {
   "cell_type": "code",
   "execution_count": 48,
   "id": "9c7ef8d0-d144-4368-957e-01570e20c257",
   "metadata": {},
   "outputs": [
    {
     "name": "stdin",
     "output_type": "stream",
     "text": [
      " 0\n"
     ]
    },
    {
     "name": "stdout",
     "output_type": "stream",
     "text": [
      "Even\n",
      "n is Zero\n"
     ]
    }
   ],
   "source": [
    "# if n is even and 0 then print it\n",
    "n = int(input())\n",
    "\n",
    "if n % 2 == 0:\n",
    "    print(\"Even\")\n",
    "    if n == 0:\n",
    "        print(\"n is Zero\")\n",
    "else:\n",
    "    print(\"Odd\")"
   ]
  },
  {
   "cell_type": "code",
   "execution_count": 49,
   "id": "40e67b13-0ca3-4d8d-ac85-12ecee2bd04f",
   "metadata": {},
   "outputs": [
    {
     "name": "stdin",
     "output_type": "stream",
     "text": [
      " 34\n",
      " 43\n"
     ]
    },
    {
     "name": "stdout",
     "output_type": "stream",
     "text": [
      "Even\n",
      "2\n"
     ]
    }
   ],
   "source": [
    "# check n is even or odd iff n is even\n",
    "# if m is even, print 1 otherwise 2\n",
    "# if n is odd then print 3\n",
    "\n",
    "n = int(input())\n",
    "m = int(input())\n",
    "\n",
    "if n % 2 == 0:\n",
    "    print(\"Even\")\n",
    "    if m % 2 == 0:\n",
    "        print(\"1\")\n",
    "    else:\n",
    "        print(\"2\")\n",
    "else:\n",
    "    print(\"3\")"
   ]
  },
  {
   "cell_type": "code",
   "execution_count": 52,
   "id": "a12fd339-8518-48be-90de-234f643c0311",
   "metadata": {},
   "outputs": [
    {
     "name": "stdout",
     "output_type": "stream",
     "text": [
      "B\n"
     ]
    }
   ],
   "source": [
    "#Predict the output\n",
    "if (10 < 0) and (0 < -10):\n",
    "     print(\"A\")\n",
    "elif (10 > 0) or False:\n",
    "     print(\"B\")\n",
    "else:\n",
    "    print(\"C\")"
   ]
  },
  {
   "cell_type": "code",
   "execution_count": 1,
   "id": "14ef1ae7-4339-4bb1-b3a6-956fda9ef6d5",
   "metadata": {},
   "outputs": [
    {
     "name": "stdout",
     "output_type": "stream",
     "text": [
      "B\n"
     ]
    }
   ],
   "source": [
    "#Predict the output\n",
    "if True or True:\n",
    "    if False and True or False:\n",
    "        print('A')\n",
    "    elif False and False or True and True:\n",
    "        print('B')\n",
    "    else:\n",
    "        print('C')\n",
    "else:\n",
    "     print('D')"
   ]
  },
  {
   "cell_type": "markdown",
   "id": "a50f8765-aa5b-4ad0-8933-6089fca7e769",
   "metadata": {},
   "source": [
    "#### WHILE LOOP"
   ]
  },
  {
   "cell_type": "code",
   "execution_count": 2,
   "id": "421c75e3-21fe-48e5-a036-95f413f92a85",
   "metadata": {},
   "outputs": [
    {
     "name": "stdin",
     "output_type": "stream",
     "text": [
      " 6\n"
     ]
    },
    {
     "name": "stdout",
     "output_type": "stream",
     "text": [
      "1\n",
      "1\n",
      "1\n",
      "1\n",
      "1\n",
      "1\n"
     ]
    }
   ],
   "source": [
    "# while True:      ##Loop will run till the condition is True, afterwards loop will end.\n",
    "n = int(input())\n",
    "count = 1\n",
    "while count <= n:\n",
    "    print(\"1\")\n",
    "    count += 1"
   ]
  },
  {
   "cell_type": "code",
   "execution_count": 5,
   "id": "4a72cf22-39f5-4449-afba-68e25887e47d",
   "metadata": {},
   "outputs": [
    {
     "name": "stdout",
     "output_type": "stream",
     "text": [
      "0\n",
      "1\n",
      "2\n",
      "3\n",
      "4\n",
      "5\n",
      "6\n",
      "7\n",
      "8\n",
      "9\n",
      "10\n"
     ]
    }
   ],
   "source": [
    "count = 0\n",
    "while count <= 10:\n",
    "    print(count)\n",
    "    count += 1"
   ]
  },
  {
   "cell_type": "code",
   "execution_count": 6,
   "id": "67601103-7731-4930-a972-9054c8733de7",
   "metadata": {},
   "outputs": [
    {
     "name": "stdin",
     "output_type": "stream",
     "text": [
      " 11\n"
     ]
    },
    {
     "name": "stdout",
     "output_type": "stream",
     "text": [
      "1\n",
      "2\n",
      "3\n",
      "4\n",
      "5\n",
      "6\n",
      "7\n",
      "8\n",
      "9\n",
      "10\n",
      "11\n"
     ]
    }
   ],
   "source": [
    "# print first n natural numbers\n",
    "n = int(input())\n",
    "count = 1\n",
    "while count <= n:\n",
    "    print(count)\n",
    "    count += 1"
   ]
  },
  {
   "cell_type": "code",
   "execution_count": 20,
   "id": "94eba976-f242-441c-a079-234e8ef0b95e",
   "metadata": {},
   "outputs": [
    {
     "name": "stdin",
     "output_type": "stream",
     "text": [
      "Enter a natural number:  0\n"
     ]
    },
    {
     "name": "stdout",
     "output_type": "stream",
     "text": [
      "Invalid Input\n"
     ]
    }
   ],
   "source": [
    "# Sum of n Natural numbers:\n",
    "\n",
    "n = int(input(\"Enter a natural number: \"))\n",
    "if n <= 0:\n",
    "    print(\"Invalid Input\")\n",
    "\n",
    "count = 1\n",
    "sum = 0\n",
    "\n",
    "if n > 0:\n",
    "    while count <= n:\n",
    "        sum += count\n",
    "        count = count + 1\n",
    "    print(sum)"
   ]
  },
  {
   "cell_type": "code",
   "execution_count": 1,
   "id": "e33c5b27-41ad-4709-b3d3-ae62e091b218",
   "metadata": {},
   "outputs": [
    {
     "name": "stdin",
     "output_type": "stream",
     "text": [
      "Enter a natural number 6\n"
     ]
    },
    {
     "name": "stdout",
     "output_type": "stream",
     "text": [
      "12\n"
     ]
    }
   ],
   "source": [
    "# Sum of even numbers:\n",
    "\n",
    "n = int(input(\"Enter a natural number\"))\n",
    "count = 2\n",
    "sum = 0\n",
    "if n % 2 == 0:\n",
    "    while count <= n:\n",
    "        sum += count\n",
    "        count += 2\n",
    "    print(sum)\n",
    "else:\n",
    "    while count < n:\n",
    "        sum += count\n",
    "        count += 2\n",
    "    print(sum)\n",
    "    "
   ]
  },
  {
   "cell_type": "code",
   "execution_count": 6,
   "id": "bd2acb98-6153-40fb-8f94-3f86e1dcc1bc",
   "metadata": {},
   "outputs": [
    {
     "name": "stdin",
     "output_type": "stream",
     "text": [
      " 23\n"
     ]
    },
    {
     "name": "stdout",
     "output_type": "stream",
     "text": [
      "Prime\n"
     ]
    }
   ],
   "source": [
    "# Check Primality\n",
    "n = int(input())\n",
    "div = 2\n",
    "flag = False\n",
    "while div < n:\n",
    "    if n % div == 0:\n",
    "        flag = True   # It means that there is some div which has divided n completely\n",
    "    div = div + 1     # to iterate and prevent from infinite loop\n",
    "\n",
    "if flag:              # if True:\n",
    "    print(\"Not prime\")\n",
    "else:\n",
    "    print(\"Prime\")"
   ]
  },
  {
   "cell_type": "code",
   "execution_count": 2,
   "id": "9bb6ac22-5e8c-4f65-a037-4d5698fc7c62",
   "metadata": {},
   "outputs": [
    {
     "name": "stdin",
     "output_type": "stream",
     "text": [
      " 21\n"
     ]
    },
    {
     "name": "stdout",
     "output_type": "stream",
     "text": [
      "2\n",
      "3\n",
      "5\n",
      "7\n",
      "11\n",
      "13\n",
      "17\n",
      "19\n"
     ]
    }
   ],
   "source": [
    "# Print all primes till n\n",
    "n = int(input())\n",
    "\n",
    "k = 2\n",
    "while k <= n:\n",
    "    div = 2\n",
    "    flag = False\n",
    "    while div < k:\n",
    "        if k % div == 0:\n",
    "            flag = True\n",
    "        div += 1\n",
    "    if not(flag):\n",
    "        print(k)\n",
    "    k += 1\n",
    "    \n",
    "    "
   ]
  },
  {
   "cell_type": "code",
   "execution_count": 13,
   "id": "a86c5c7b-489e-414e-8ced-10823ffc1867",
   "metadata": {},
   "outputs": [
    {
     "name": "stdin",
     "output_type": "stream",
     "text": [
      " 0\n",
      " 100\n",
      " 20\n"
     ]
    },
    {
     "name": "stdout",
     "output_type": "stream",
     "text": [
      "0   -17\n",
      "20   -6\n",
      "40   4\n",
      "60   15\n",
      "80   26\n",
      "100   37\n"
     ]
    }
   ],
   "source": [
    "# S:- Starting temp, E:- Ending temp, W\n",
    "S = int(input())\n",
    "E = int(input())\n",
    "W = int(input())\n",
    "\n",
    "fah = S\n",
    "while fah <= E:\n",
    "    cel = ((fah - 32) * 5) / 9\n",
    "    print(fah, \" \", int(cel))\n",
    "    fah += W"
   ]
  },
  {
   "cell_type": "markdown",
   "id": "2131d120-abcd-4c9e-8216-99578e15c975",
   "metadata": {},
   "source": [
    "#### Assignment Questions"
   ]
  },
  {
   "cell_type": "markdown",
   "id": "f23e4618-b94f-4873-a182-6fba3707e20a",
   "metadata": {},
   "source": [
    "###### Write a program that performs the tasks of a simple calculator. The program should first take an integer as input and then based on that integer perform the task as given below.\n",
    "###### 1. If the input is 1, then 2 integers are taken from the user and their sum is printed.\n",
    "###### 2. If the input is 2, then 2 integers are taken from the user and their difference(1st number - 2nd number) is printed.\n",
    "###### 3. If the input is 3, then 2 integers are taken from the user and their product is printed.\n",
    "###### 4. If the input is 4, then 2 integers are taken from the user and the quotient obtained (on dividing 1st number by 2nd number) is printed.\n",
    "###### 5. If the input is 5, then 2 integers are taken from the user and their remainder(1st number mod 2nd number) is printed.\n",
    "###### 6. If the input is 6, then the program exits.\n",
    "###### 7. For any other input, then print \"Invalid Operation\""
   ]
  },
  {
   "cell_type": "code",
   "execution_count": 12,
   "id": "36097375-6829-4560-84b5-bd1cd6c94a32",
   "metadata": {},
   "outputs": [
    {
     "name": "stdin",
     "output_type": "stream",
     "text": [
      "Enter an Integer:  3\n",
      " 1\n",
      " 2\n"
     ]
    },
    {
     "name": "stdout",
     "output_type": "stream",
     "text": [
      "2\n"
     ]
    },
    {
     "name": "stdin",
     "output_type": "stream",
     "text": [
      " 4\n",
      " 4\n",
      " 2\n"
     ]
    },
    {
     "name": "stdout",
     "output_type": "stream",
     "text": [
      "2\n"
     ]
    },
    {
     "name": "stdin",
     "output_type": "stream",
     "text": [
      " 1\n",
      " 3\n",
      " 2\n"
     ]
    },
    {
     "name": "stdout",
     "output_type": "stream",
     "text": [
      "5\n"
     ]
    },
    {
     "name": "stdin",
     "output_type": "stream",
     "text": [
      " 7\n"
     ]
    },
    {
     "name": "stdout",
     "output_type": "stream",
     "text": [
      "Invalid Operation\n"
     ]
    },
    {
     "name": "stdin",
     "output_type": "stream",
     "text": [
      " 6\n"
     ]
    }
   ],
   "source": [
    "\n",
    "n = int(input(\"Enter an Integer: \"))\n",
    "\n",
    "# if n < 1 and n > 6:\n",
    "#     print(\"Invalid Operation\")\n",
    "while n != 6:\n",
    "    if n == 1:\n",
    "        a = int(input())\n",
    "        b = int(input())\n",
    "        print(a + b)\n",
    "        n = int(input())\n",
    "        \n",
    "    elif n == 2:\n",
    "        a = int(input())\n",
    "        b = int(input())\n",
    "        print(a - b)\n",
    "        n = int(input())\n",
    "        \n",
    "    elif n == 3:\n",
    "        a = int(input())\n",
    "        b = int(input())\n",
    "        print(a * b)\n",
    "        n = int(input())\n",
    "        \n",
    "    elif n == 4:\n",
    "        a = int(input())\n",
    "        b = int(input())\n",
    "        print(a // b)\n",
    "        n = int(input())\n",
    "        \n",
    "    elif n == 5:\n",
    "        a = int(input())\n",
    "        b = int(input())\n",
    "        print(a % b)\n",
    "        n = int(input())\n",
    "        \n",
    "        \n",
    "    else:\n",
    "        print(\"Invalid Operation\")\n",
    "        n = int(input())\n",
    "    "
   ]
  },
  {
   "cell_type": "markdown",
   "id": "cfaa1108-61a8-41bb-99f3-d0675b4fb09e",
   "metadata": {},
   "source": [
    "###### Write a program to generate the reverse of a given number N. Print the corresponding reverse number.\n",
    "###### Note : If a number has trailing zeros, then its reverse will not include them. For e.g., reverse of 10400 will be 401 instead of 00401."
   ]
  },
  {
   "cell_type": "code",
   "execution_count": 9,
   "id": "9423fd50-615c-47ca-a22a-fcb80f58a561",
   "metadata": {},
   "outputs": [
    {
     "name": "stdin",
     "output_type": "stream",
     "text": [
      "Enter a number:  43210\n"
     ]
    },
    {
     "name": "stdout",
     "output_type": "stream",
     "text": [
      "01234"
     ]
    }
   ],
   "source": [
    "num = int(input(\"Enter a number: \"))\n",
    "length = len(str(num))\n",
    "\n",
    "count = 0\n",
    "while count < length:\n",
    "    digit = num % 10\n",
    "    num = num // 10\n",
    "    print(str(digit), end = '')\n",
    "    count += 1\n",
    "    \n",
    "# This code will work for reversing every digit\n"
   ]
  },
  {
   "cell_type": "code",
   "execution_count": 10,
   "id": "0ac37ccc-5a4c-4342-aac6-782f7a3d3eea",
   "metadata": {},
   "outputs": [
    {
     "name": "stdin",
     "output_type": "stream",
     "text": [
      " 120800\n"
     ]
    },
    {
     "name": "stdout",
     "output_type": "stream",
     "text": [
      "0\n",
      "0\n",
      "8\n",
      "80\n",
      "802\n",
      "8021\n",
      "8021\n"
     ]
    }
   ],
   "source": [
    "num = int(input())\n",
    "\n",
    "# while num % 10 == 0:\n",
    "#     num = num // 10\n",
    "\n",
    "rev_no = 0\n",
    "while num > 0:\n",
    "    rem = num % 10\n",
    "    rev_no = rev_no * 10 + rem\n",
    "    num = num // 10\n",
    "    print(rev_no)  # to see how while loop is working step by step\n",
    "print(rev_no)"
   ]
  },
  {
   "cell_type": "markdown",
   "id": "5bd38166-bf31-45e9-b1da-1db486d0606b",
   "metadata": {},
   "source": [
    "###### Write a program to determine if given number is palindrome or not. Print true if it is palindrome, false otherwise.\n",
    "###### Palindrome are the numbers for which reverse is exactly same as the original one. For eg. 121"
   ]
  },
  {
   "cell_type": "markdown",
   "id": "8159419a-e72a-4b0e-b664-4d948697b64d",
   "metadata": {},
   "source": [
    "###### Both solution below are working"
   ]
  },
  {
   "cell_type": "code",
   "execution_count": 23,
   "id": "530369e5-ab24-4599-a7cb-e2e8dd9e213c",
   "metadata": {},
   "outputs": [
    {
     "name": "stdin",
     "output_type": "stream",
     "text": [
      " 12121\n"
     ]
    },
    {
     "name": "stdout",
     "output_type": "stream",
     "text": [
      "true\n"
     ]
    }
   ],
   "source": [
    "num = int(input())\n",
    "temp = num\n",
    "rev_no = 0\n",
    "while num > 0:\n",
    "    rem = num % 10\n",
    "    rev_no = rev_no * 10 + rem\n",
    "    num = num // 10\n",
    "\n",
    "if temp == rev_no:\n",
    "    print(\"true\")\n",
    "else:\n",
    "    print(\"false\")"
   ]
  },
  {
   "cell_type": "code",
   "execution_count": 21,
   "id": "8f74cccb-5a6f-4c88-b158-35c207a17a75",
   "metadata": {},
   "outputs": [
    {
     "name": "stdin",
     "output_type": "stream",
     "text": [
      " 1234\n"
     ]
    },
    {
     "name": "stdout",
     "output_type": "stream",
     "text": [
      "false\n"
     ]
    }
   ],
   "source": [
    "num = int(input())\n",
    "\n",
    "temp = num\n",
    "rev = 0\n",
    "while temp != 0:\n",
    "    rev = (rev * 10) + (temp % 10)\n",
    "    temp = temp // 10\n",
    "\n",
    "if num == rev:\n",
    "    print('true')\n",
    "else:\n",
    "    print('false')"
   ]
  },
  {
   "cell_type": "markdown",
   "id": "03f536b1-49ca-43a7-aa0b-7473f9a2d9a9",
   "metadata": {},
   "source": [
    "###### Write a program to input an integer N and print the sum of all its even digits and sum of all its odd digits separately.\n",
    "###### Digits mean numbers, not the places! That is, if the given integer is \"13245\", even digits are 2 & 4 and odd digits are 1, 3 & 5.\n",
    "###### Input format :"
   ]
  },
  {
   "cell_type": "code",
   "execution_count": 44,
   "id": "fd73a435-50a7-4cf0-8aeb-b256feca9895",
   "metadata": {},
   "outputs": [
    {
     "name": "stdin",
     "output_type": "stream",
     "text": [
      " 207580274\n"
     ]
    },
    {
     "name": "stdout",
     "output_type": "stream",
     "text": [
      "16   19\n"
     ]
    }
   ],
   "source": [
    "num = int(input())\n",
    "\n",
    "even_sum = 0\n",
    "odd_sum = 0\n",
    "\n",
    "while num > 0:\n",
    "    r = num % 10\n",
    "    \n",
    "    if r % 2 == 0:\n",
    "        even_sum += r\n",
    "    else:\n",
    "        odd_sum += r\n",
    "    \n",
    "    num = num // 10\n",
    "\n",
    "print(even_sum, ' ', odd_sum)"
   ]
  },
  {
   "cell_type": "markdown",
   "id": "13e98b14-f0a4-4aab-8f34-a1abdd5cf23a",
   "metadata": {},
   "source": [
    "###### Nth term of Fibonacci series F(n), where F(n) is a function, is calculated using the following formula -\n",
    "    F(n) = F(n-1) + F(n-2), \n",
    "    Where, F(1) =  0, \n",
    "           F(2) = 1\n",
    "###### Provided N you have to find out the Nth Fibonacci Number."
   ]
  },
  {
   "cell_type": "code",
   "execution_count": 42,
   "id": "53fbf972-3b53-4b1f-b991-0bf9c9a65276",
   "metadata": {},
   "outputs": [
    {
     "name": "stdin",
     "output_type": "stream",
     "text": [
      " 10\n"
     ]
    },
    {
     "name": "stdout",
     "output_type": "stream",
     "text": [
      "10th fibbonaci number: 55\n"
     ]
    }
   ],
   "source": [
    "n = int(input())\n",
    "\n",
    "fib1 = 0\n",
    "fib2 = 1\n",
    "sum = 0\n",
    "count = 1\n",
    "\n",
    "while count <= n:\n",
    "    # print(sum, end = ' ')     #This line will print fib series till n\n",
    "    count += 1\n",
    "    fib1 = fib2\n",
    "    fib2 = sum\n",
    "    sum = fib1 + fib2\n",
    "print(str(n) + 'th','fibbonaci number:',sum)"
   ]
  }
 ],
 "metadata": {
  "kernelspec": {
   "display_name": "Python 3 (ipykernel)",
   "language": "python",
   "name": "python3"
  },
  "language_info": {
   "codemirror_mode": {
    "name": "ipython",
    "version": 3
   },
   "file_extension": ".py",
   "mimetype": "text/x-python",
   "name": "python",
   "nbconvert_exporter": "python",
   "pygments_lexer": "ipython3",
   "version": "3.10.4"
  }
 },
 "nbformat": 4,
 "nbformat_minor": 5
}
