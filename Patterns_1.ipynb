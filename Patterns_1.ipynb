{
 "cells": [
  {
   "cell_type": "markdown",
   "id": "d3281650-9086-4482-946b-f19cca1a6138",
   "metadata": {},
   "source": [
    "##### -------------------------------------------------------------------------------------------------------------------------------------------------------------------------------"
   ]
  },
  {
   "cell_type": "markdown",
   "id": "f576214f-50f8-451f-81b3-6726d928e1be",
   "metadata": {},
   "source": [
    "##### ***Answer three question for every pattern you print.***\n",
    "######\n",
    "###### 1. How many rows you have to print?\n",
    "###### 2. How many columns you have to print? for (i)th row? \n",
    "###### 3. What to print?"
   ]
  },
  {
   "cell_type": "markdown",
   "id": "0e6f1bec-df0d-4e5e-b582-411a4660bc1c",
   "metadata": {},
   "source": [
    "##### -------------------------------------------------------------------------------------------------------------------------------------------------------------------------------"
   ]
  },
  {
   "cell_type": "markdown",
   "id": "12d3bd0e-7ace-497a-8f62-e8d8ee38e008",
   "metadata": {
    "tags": []
   },
   "source": [
    "##### Pattern"
   ]
  },
  {
   "cell_type": "markdown",
   "id": "b493752d-6c74-4754-ae04-a74e5c93d89b",
   "metadata": {},
   "source": [
    "###### ****\n",
    "###### ****\n",
    "###### ****\n",
    "###### ****"
   ]
  },
  {
   "cell_type": "code",
   "execution_count": 19,
   "id": "a453679e-134e-4f1b-9df1-f1d9585606c2",
   "metadata": {},
   "outputs": [
    {
     "name": "stdin",
     "output_type": "stream",
     "text": [
      " 4\n"
     ]
    },
    {
     "name": "stdout",
     "output_type": "stream",
     "text": [
      "****\n",
      "****\n",
      "****\n",
      "****\n"
     ]
    }
   ],
   "source": [
    "n = int(input())\n",
    "i = 1\n",
    "while i <= n:\n",
    "    print('*' * n)    # This code will produce same output\n",
    "    i = i + 1"
   ]
  },
  {
   "cell_type": "code",
   "execution_count": 9,
   "id": "b63bc3b6-94e0-47fa-9f79-67e4c050140a",
   "metadata": {},
   "outputs": [
    {
     "name": "stdin",
     "output_type": "stream",
     "text": [
      " 4\n"
     ]
    },
    {
     "name": "stdout",
     "output_type": "stream",
     "text": [
      "****\n",
      "****\n",
      "****\n",
      "****\n"
     ]
    }
   ],
   "source": [
    "n = int(input())\n",
    "i = 1\n",
    "\n",
    "while i <= n:\n",
    "    j = 1\n",
    "    while j <= n:\n",
    "        print('*', end = '')\n",
    "        j = j + 1\n",
    "    print()\n",
    "    i = i + 1"
   ]
  },
  {
   "cell_type": "markdown",
   "id": "3935ac5b-d561-4b42-8261-617b6c8ea450",
   "metadata": {},
   "source": [
    "##### -------------------------------------------------------------------------------------------------------------------------------------------------------------------------------"
   ]
  },
  {
   "cell_type": "markdown",
   "id": "e85a2e35-d932-4445-866d-7624be1181f0",
   "metadata": {},
   "source": [
    "#### ***Square Pattern***"
   ]
  },
  {
   "cell_type": "markdown",
   "id": "b3a2266f-beab-4cce-91c0-e8c496f98b49",
   "metadata": {},
   "source": [
    "##### -------------------------------------------------------------------------------------------------------------------------------------------------------------------------------"
   ]
  },
  {
   "cell_type": "markdown",
   "id": "c69275b5-e956-4b32-803d-8a7ab1aaa775",
   "metadata": {},
   "source": [
    "###### ***Print the following pattern for the given N number of rows.***\n",
    "###### Pattern for N = 4\n",
    "###### 4444\n",
    "###### 4444\n",
    "###### 4444\n",
    "###### 4444"
   ]
  },
  {
   "cell_type": "code",
   "execution_count": 21,
   "id": "449fe3db-a46f-46b0-a475-08c51af03d35",
   "metadata": {},
   "outputs": [
    {
     "name": "stdin",
     "output_type": "stream",
     "text": [
      " 4\n"
     ]
    },
    {
     "name": "stdout",
     "output_type": "stream",
     "text": [
      "4444\n",
      "4444\n",
      "4444\n",
      "4444\n"
     ]
    }
   ],
   "source": [
    "n = int(input())\n",
    "\n",
    "i = 1\n",
    "while i <= n:\n",
    "    j = 1\n",
    "    while j <= n:\n",
    "        print(n, end = '')\n",
    "        j = j + 1\n",
    "    print()\n",
    "    i = i + 1"
   ]
  },
  {
   "cell_type": "markdown",
   "id": "4ab2902f-ecf4-4ed8-9eb1-3b0c2b978593",
   "metadata": {},
   "source": [
    "##### -------------------------------------------------------------------------------------------------------------------------------------------------------------------------------"
   ]
  },
  {
   "cell_type": "markdown",
   "id": "e1f89541-edbc-4e33-8bb4-5fb8808f79bd",
   "metadata": {
    "tags": []
   },
   "source": [
    "##### ***Print the following pattern for the given N number of rows.***\n",
    "###### Pattern for N = 4\n",
    "###### 1111\n",
    "###### 2222\n",
    "###### 3333\n",
    "###### 4444"
   ]
  },
  {
   "cell_type": "code",
   "execution_count": 2,
   "id": "83179930-e18b-4633-968f-fdd746285dd8",
   "metadata": {},
   "outputs": [
    {
     "name": "stdin",
     "output_type": "stream",
     "text": [
      " 4\n"
     ]
    },
    {
     "name": "stdout",
     "output_type": "stream",
     "text": [
      "1111\n",
      "2222\n",
      "3333\n",
      "4444\n"
     ]
    }
   ],
   "source": [
    "n = int(input())\n",
    "\n",
    "i = 1\n",
    "while i <= n:\n",
    "    j = 1\n",
    "    while j <= n:\n",
    "        print(i, end = '')\n",
    "        j = j + 1\n",
    "    print()\n",
    "    i = i + 1"
   ]
  },
  {
   "cell_type": "markdown",
   "id": "10f7ed7d-17b2-4f40-af4d-237aae6cf59d",
   "metadata": {},
   "source": [
    "##### -------------------------------------------------------------------------------------------------------------------------------------------------------------------------------"
   ]
  },
  {
   "cell_type": "markdown",
   "id": "cebd5504-9e2c-4933-9a07-fa7b87222b7c",
   "metadata": {
    "tags": []
   },
   "source": [
    "##### ***Print the following pattern for the given N number of rows.***\n",
    "###### Pattern for N = 4\n",
    "###### 1234\n",
    "###### 1234\n",
    "###### 1234\n",
    "###### 1234"
   ]
  },
  {
   "cell_type": "code",
   "execution_count": 3,
   "id": "8ce05d06-1fbb-4cd6-97a8-259f1c8ae388",
   "metadata": {},
   "outputs": [
    {
     "name": "stdin",
     "output_type": "stream",
     "text": [
      " 4\n"
     ]
    },
    {
     "name": "stdout",
     "output_type": "stream",
     "text": [
      "1234\n",
      "1234\n",
      "1234\n",
      "1234\n"
     ]
    }
   ],
   "source": [
    "n = int(input())\n",
    "i = 1\n",
    "while i <= n:\n",
    "    j = 1\n",
    "    while j <= n:\n",
    "        print(j, end = '')\n",
    "        j = j + 1\n",
    "    print()\n",
    "    i = i + 1"
   ]
  },
  {
   "cell_type": "markdown",
   "id": "d7b2cc13-a34e-405b-a5a8-0855cc5e3f07",
   "metadata": {},
   "source": [
    "##### -------------------------------------------------------------------------------------------------------------------------------------------------------------------------------"
   ]
  },
  {
   "cell_type": "markdown",
   "id": "4bcd39c8-ad76-4c71-83f1-206980928e8e",
   "metadata": {},
   "source": [
    "##### ***Print the following pattern for the given N number of rows.***\n",
    "###### Pattern for N = 4\n",
    "###### 4321\n",
    "###### 4321\n",
    "###### 4321\n",
    "###### 4321"
   ]
  },
  {
   "cell_type": "code",
   "execution_count": 10,
   "id": "fd85911c-95e4-48eb-abc7-80fecc9741f6",
   "metadata": {},
   "outputs": [
    {
     "name": "stdin",
     "output_type": "stream",
     "text": [
      " 4\n"
     ]
    },
    {
     "name": "stdout",
     "output_type": "stream",
     "text": [
      "4321\n",
      "4321\n",
      "4321\n",
      "4321\n"
     ]
    }
   ],
   "source": [
    "n = int(input())\n",
    "\n",
    "# i = 1\n",
    "# while i <= n:\n",
    "#     j = n\n",
    "#     while j >= 1:\n",
    "#         print(j, end = '')\n",
    "#         j = j - 1\n",
    "#     print()\n",
    "#     i = i + 1\n",
    "##### Above piece of code will also work fine\n",
    "\n",
    "i = 1\n",
    "while i <=n:\n",
    "    j = 1\n",
    "    while j <= n:\n",
    "        print(n - j + 1, end = '')\n",
    "        j = j + 1\n",
    "    print()\n",
    "    i = i + 1"
   ]
  },
  {
   "cell_type": "markdown",
   "id": "c9f9b154-ebeb-49da-b235-7dc59474c23a",
   "metadata": {},
   "source": [
    "##### -------------------------------------------------------------------------------------------------------------------------------------------------------------------------------"
   ]
  },
  {
   "cell_type": "markdown",
   "id": "e3e21d57-457c-434b-90f3-a031f6efec2e",
   "metadata": {},
   "source": [
    "#### ***Triangular Pattern***"
   ]
  },
  {
   "cell_type": "markdown",
   "id": "f1c21c3e-fc46-4cb7-ac5a-43d1d66d5e89",
   "metadata": {},
   "source": [
    "##### -------------------------------------------------------------------------------------------------------------------------------------------------------------------------------"
   ]
  },
  {
   "cell_type": "markdown",
   "id": "5d77e06a-9099-48de-ad08-e1f5a302e6e2",
   "metadata": {},
   "source": [
    "##### ***Print the following pattern for the given N number of rows.***\n",
    "###### Pattern for N = 4\n",
    "###### 1\n",
    "###### 12\n",
    "###### 123\n",
    "###### 1234"
   ]
  },
  {
   "cell_type": "code",
   "execution_count": 16,
   "id": "19ecc1c3-f5e4-46fc-bdc6-09922fe852e4",
   "metadata": {},
   "outputs": [
    {
     "name": "stdin",
     "output_type": "stream",
     "text": [
      " 4\n"
     ]
    },
    {
     "name": "stdout",
     "output_type": "stream",
     "text": [
      "1\n",
      "12\n",
      "123\n",
      "1234\n"
     ]
    }
   ],
   "source": [
    "n = int(input())\n",
    "i = 1\n",
    "while i <= n:\n",
    "    j = 1\n",
    "    while j <= i:\n",
    "        print(j, end = '')\n",
    "        j = j + 1\n",
    "    print()\n",
    "    i = i + 1"
   ]
  },
  {
   "cell_type": "markdown",
   "id": "86d5ff21-d7d1-4919-a262-33ef731de035",
   "metadata": {},
   "source": [
    "##### -------------------------------------------------------------------------------------------------------------------------------------------------------------------------------"
   ]
  },
  {
   "cell_type": "markdown",
   "id": "20d18092-75d7-4e2c-adea-90e2568dbf43",
   "metadata": {},
   "source": [
    "##### ***Print the following pattern for the given N number of rows.***\n",
    "###### Pattern for N = 4\n",
    "###### 1\n",
    "###### 23\n",
    "###### 345\n",
    "###### 4567"
   ]
  },
  {
   "cell_type": "code",
   "execution_count": 25,
   "id": "48473e82-1c99-4955-b397-8151f61a0e2a",
   "metadata": {},
   "outputs": [
    {
     "name": "stdin",
     "output_type": "stream",
     "text": [
      " 4\n"
     ]
    },
    {
     "name": "stdout",
     "output_type": "stream",
     "text": [
      "1\n",
      "23\n",
      "345\n",
      "4567\n"
     ]
    }
   ],
   "source": [
    "n = int(input())\n",
    "i = 1\n",
    "while i <= n:\n",
    "    j = 1\n",
    "    while j <= i:\n",
    "        print(i + j - 1, end = '')\n",
    "        j = j + 1\n",
    "    print()\n",
    "    i = i + 1"
   ]
  },
  {
   "cell_type": "code",
   "execution_count": 37,
   "id": "9f92dcab-aa52-4e9f-8ad8-22471e80eb7f",
   "metadata": {},
   "outputs": [
    {
     "name": "stdin",
     "output_type": "stream",
     "text": [
      " 4\n"
     ]
    },
    {
     "name": "stdout",
     "output_type": "stream",
     "text": [
      "1\n",
      "23\n",
      "345\n",
      "4567\n"
     ]
    }
   ],
   "source": [
    "n = int(input())\n",
    "i = 1\n",
    "while i <= n:\n",
    "    j = 1\n",
    "    p = i\n",
    "    while j <= i:\n",
    "        print(p, end = '')\n",
    "        j = j + 1\n",
    "        p = p + 1\n",
    "    print()\n",
    "    i = i + 1"
   ]
  },
  {
   "cell_type": "markdown",
   "id": "ecfc2883-febc-47bc-9e7c-06917ec48e7b",
   "metadata": {},
   "source": [
    "##### -------------------------------------------------------------------------------------------------------------------------------------------------------------------------------"
   ]
  },
  {
   "cell_type": "markdown",
   "id": "9cedcd35-b01d-46b4-99d0-4a613fcd2acf",
   "metadata": {},
   "source": [
    "##### ***Print the following pattern for the given N number of rows.***\n",
    "###### Pattern for N = 4\n",
    "###### 1\n",
    "###### 2 3\n",
    "###### 4 5 6\n",
    "###### 7 8 9 10"
   ]
  },
  {
   "cell_type": "code",
   "execution_count": 34,
   "id": "d4ed3da6-0c49-4e66-8afe-ab6742cae605",
   "metadata": {},
   "outputs": [
    {
     "name": "stdin",
     "output_type": "stream",
     "text": [
      " 4\n"
     ]
    },
    {
     "name": "stdout",
     "output_type": "stream",
     "text": [
      "1 \n",
      "2 3 \n",
      "4 5 6 \n",
      "7 8 9 10 \n"
     ]
    }
   ],
   "source": [
    "n = int(input())\n",
    "i = 1\n",
    "p = 1\n",
    "\n",
    "while i <= n:\n",
    "    j = 1\n",
    "    while j <= i:\n",
    "        print(p, end = ' ')\n",
    "        j = j + 1\n",
    "        p = p + 1\n",
    "        \n",
    "    print()\n",
    "    i = i + 1"
   ]
  },
  {
   "cell_type": "markdown",
   "id": "c7e1d893-b005-4229-8ea0-c9344efb5b20",
   "metadata": {},
   "source": [
    "##### -------------------------------------------------------------------------------------------------------------------------------------------------------------------------------"
   ]
  },
  {
   "cell_type": "markdown",
   "id": "0c344543-f8d3-4815-87f5-47d07177b6fd",
   "metadata": {},
   "source": [
    "##### ***Print the following pattern for the given N number of rows.***\n",
    "###### Pattern for N = 4\n",
    "###### *\n",
    "###### **\n",
    "###### ***\n",
    "###### ****"
   ]
  },
  {
   "cell_type": "code",
   "execution_count": 38,
   "id": "b03f17ae-104b-42a3-86e9-81bd3f24d4dd",
   "metadata": {},
   "outputs": [
    {
     "name": "stdin",
     "output_type": "stream",
     "text": [
      " 4\n"
     ]
    },
    {
     "name": "stdout",
     "output_type": "stream",
     "text": [
      "*\n",
      "**\n",
      "***\n",
      "****\n"
     ]
    }
   ],
   "source": [
    "n = int(input())\n",
    "i = 1\n",
    "while i <= n:\n",
    "    j = 1\n",
    "    while j <= i:\n",
    "        print('*', end = '')\n",
    "        j = j + 1\n",
    "    print()\n",
    "    i = i + 1"
   ]
  },
  {
   "cell_type": "markdown",
   "id": "d9243c4b-7ffe-4d07-8e17-356ff9741c80",
   "metadata": {},
   "source": [
    "##### -------------------------------------------------------------------------------------------------------------------------------------------------------------------------------"
   ]
  },
  {
   "cell_type": "markdown",
   "id": "a6d2f6b9-ccad-4c74-9e55-30e9bd77e30f",
   "metadata": {},
   "source": [
    "##### ***Print the following pattern for the given N number of rows.***\n",
    "###### Pattern for N = 4\n",
    "###### 1\n",
    "###### 22\n",
    "###### 333\n",
    "###### 4444"
   ]
  },
  {
   "cell_type": "code",
   "execution_count": 41,
   "id": "18e9afe8-1e3c-46ad-a264-ce9199a72256",
   "metadata": {},
   "outputs": [
    {
     "name": "stdin",
     "output_type": "stream",
     "text": [
      " 4\n"
     ]
    },
    {
     "name": "stdout",
     "output_type": "stream",
     "text": [
      "1\n",
      "22\n",
      "333\n",
      "4444\n"
     ]
    }
   ],
   "source": [
    "n = int(input())\n",
    "i = 1\n",
    "while i <= n:\n",
    "    j = 1\n",
    "    while j <= i:\n",
    "        print(i, end = '')\n",
    "        j = j + 1\n",
    "    print()\n",
    "    i = i + 1"
   ]
  },
  {
   "cell_type": "markdown",
   "id": "0f29bb7e-3846-4aa6-98b8-2915ced8838f",
   "metadata": {},
   "source": [
    "##### -------------------------------------------------------------------------------------------------------------------------------------------------------------------------------"
   ]
  },
  {
   "cell_type": "markdown",
   "id": "42a6bcc6-5a6b-4c62-ab3a-34e8d866b7b0",
   "metadata": {},
   "source": [
    "##### ***Print the following pattern for the given N number of rows.***\n",
    "###### Pattern for N = 4\n",
    "###### 1\n",
    "###### 21\n",
    "###### 321\n",
    "###### 4321"
   ]
  },
  {
   "cell_type": "code",
   "execution_count": 46,
   "id": "4f444739-a940-4f78-a03e-745af5e59f4a",
   "metadata": {},
   "outputs": [
    {
     "name": "stdin",
     "output_type": "stream",
     "text": [
      " 5\n"
     ]
    },
    {
     "name": "stdout",
     "output_type": "stream",
     "text": [
      "1\n",
      "21\n",
      "321\n",
      "4321\n",
      "54321\n"
     ]
    }
   ],
   "source": [
    "n = int(input())\n",
    "i = 1\n",
    "while i <= n:\n",
    "    j = 1 \n",
    "    p = (n - (n - i))\n",
    "    while j <= i:\n",
    "        print(p, end = '')\n",
    "        j = j + 1\n",
    "        p = p - 1\n",
    "    print()\n",
    "    i = i + 1\n",
    "        "
   ]
  },
  {
   "cell_type": "markdown",
   "id": "639d3194-e605-425e-a942-b321ce392c59",
   "metadata": {},
   "source": [
    "##### -------------------------------------------------------------------------------------------------------------------------------------------------------------------------------"
   ]
  },
  {
   "cell_type": "markdown",
   "id": "ad7754d9-80e0-4899-9ddc-326e86f3c594",
   "metadata": {},
   "source": [
    "#### ***Character Patterns***"
   ]
  },
  {
   "cell_type": "markdown",
   "id": "07954827-1040-4da9-bb54-19b0f615ed3e",
   "metadata": {},
   "source": [
    "##### -------------------------------------------------------------------------------------------------------------------------------------------------------------------------------"
   ]
  },
  {
   "cell_type": "markdown",
   "id": "4d18832a-b485-4868-8a97-7bfee2c11ff0",
   "metadata": {},
   "source": [
    "###### How to print (K)th character by ord and chr method"
   ]
  },
  {
   "cell_type": "code",
   "execution_count": 7,
   "id": "7be8bfda-06ef-454b-9343-82596eb32dfd",
   "metadata": {},
   "outputs": [
    {
     "name": "stdin",
     "output_type": "stream",
     "text": [
      " 4\n"
     ]
    },
    {
     "name": "stdout",
     "output_type": "stream",
     "text": [
      "D\n"
     ]
    }
   ],
   "source": [
    "#print kth alphabet\n",
    "k = int(input())\n",
    "# 'A' + k - 1\n",
    "# Find ascii val of 'A'\n",
    "# Add k - 1 in it\n",
    "# Find char corresponding to number of 2nd step no.\n",
    "x = ord('A')\n",
    "asciiTarget = x + k - 1\n",
    "targetChar = chr(asciiTarget)\n",
    "print(targetChar)"
   ]
  },
  {
   "cell_type": "markdown",
   "id": "ba664559-bbd7-4f3e-9fcb-3b2c106c6cc8",
   "metadata": {},
   "source": [
    "##### -------------------------------------------------------------------------------------------------------------------------------------------------------------------------------"
   ]
  },
  {
   "cell_type": "markdown",
   "id": "c760b6b2-9447-47d7-8fc8-829f0d19c933",
   "metadata": {},
   "source": [
    "##### ***Print the following pattern for the given N number of rows.***\n",
    "###### Pattern for N = 4\n",
    "###### ABCD\n",
    "###### ABCD\n",
    "###### ABCD\n",
    "###### ABCD"
   ]
  },
  {
   "cell_type": "code",
   "execution_count": 17,
   "id": "ba6bcb68-9fe7-4c9a-b5f5-b629f87343d9",
   "metadata": {},
   "outputs": [
    {
     "name": "stdin",
     "output_type": "stream",
     "text": [
      " 4\n"
     ]
    },
    {
     "name": "stdout",
     "output_type": "stream",
     "text": [
      "ABCD\n",
      "ABCD\n",
      "ABCD\n",
      "ABCD\n"
     ]
    }
   ],
   "source": [
    "n = int(input())\n",
    "i = 1\n",
    "while i <= n:\n",
    "    j = 1\n",
    "    while j <= n:\n",
    "        charP = chr(ord('A') + j - 1)\n",
    "        print(charP, end = '')\n",
    "        j += 1\n",
    "    print()\n",
    "    i += 1"
   ]
  },
  {
   "cell_type": "markdown",
   "id": "7217b3aa-7187-41f6-a02d-43e37437ca58",
   "metadata": {},
   "source": [
    "##### -------------------------------------------------------------------------------------------------------------------------------------------------------------------------------"
   ]
  },
  {
   "cell_type": "markdown",
   "id": "ed9e4d2c-18d1-4df4-9b17-b98f7ec4e47e",
   "metadata": {},
   "source": [
    "##### ***Print the following pattern for the given N number of rows.***\n",
    "###### Pattern for N = 4\n",
    "###### ABCD\n",
    "###### BCDE\n",
    "###### CDEF\n",
    "###### DEFG"
   ]
  },
  {
   "cell_type": "code",
   "execution_count": 24,
   "id": "88645dc7-f26d-4569-b352-3d6a2af3052d",
   "metadata": {},
   "outputs": [
    {
     "name": "stdin",
     "output_type": "stream",
     "text": [
      " 4\n"
     ]
    },
    {
     "name": "stdout",
     "output_type": "stream",
     "text": [
      "ABCD\n",
      "BCDE\n",
      "CDEF\n",
      "DEFG\n"
     ]
    }
   ],
   "source": [
    "n = int(input())\n",
    "i = 1\n",
    "\n",
    "while i <= n:\n",
    "    j = 1\n",
    "    startChar = 'A'\n",
    "    while j <= n:\n",
    "        # charP = chr(ord(startChar) + j - 1)   \n",
    "        # Above line of code will print ABC\\n ABC\\n ABC\\n for n = 3\n",
    "        \n",
    "        charP = chr(ord(startChar) + i + j - 2)\n",
    "        print(charP, end = '')\n",
    "        j += 1\n",
    "    print()\n",
    "    i += 1"
   ]
  },
  {
   "cell_type": "code",
   "execution_count": 26,
   "id": "15dd0712-2244-4d30-9b42-68ba1fac128d",
   "metadata": {},
   "outputs": [
    {
     "name": "stdin",
     "output_type": "stream",
     "text": [
      " 4\n"
     ]
    },
    {
     "name": "stdout",
     "output_type": "stream",
     "text": [
      "ABCD\n",
      "BCDE\n",
      "CDEF\n",
      "DEFG\n"
     ]
    }
   ],
   "source": [
    "n = int(input())\n",
    "i = 1\n",
    "\n",
    "while i <= n:\n",
    "    j = 1\n",
    "    startChar = chr(ord('A') + i - 1)\n",
    "    while j <= n:\n",
    "        charP = chr(ord(startChar) + j - 1)\n",
    "        print(charP, end = '')\n",
    "        j += 1\n",
    "    print()\n",
    "    i += 1"
   ]
  },
  {
   "cell_type": "markdown",
   "id": "d88dfbf6-10ff-4084-9074-34bb5260034a",
   "metadata": {},
   "source": [
    "##### -------------------------------------------------------------------------------------------------------------------------------------------------------------------------------"
   ]
  },
  {
   "cell_type": "markdown",
   "id": "e13685c2-f2db-4ccc-8be5-9a7e6cd8200e",
   "metadata": {},
   "source": [
    "##### ***Print the following pattern for the given N number of rows.***\n",
    "###### Pattern for N = 4\n",
    "###### A\n",
    "###### BC\n",
    "###### CDE\n",
    "###### DEFG"
   ]
  },
  {
   "cell_type": "code",
   "execution_count": 28,
   "id": "6f94e4c8-7b8a-47cd-b101-360a8a71ee53",
   "metadata": {},
   "outputs": [
    {
     "name": "stdin",
     "output_type": "stream",
     "text": [
      " 4\n"
     ]
    },
    {
     "name": "stdout",
     "output_type": "stream",
     "text": [
      "A\n",
      "BC\n",
      "CDE\n",
      "DEFG\n"
     ]
    }
   ],
   "source": [
    "n = int(input())\n",
    "i = 1\n",
    "while i <= n:\n",
    "    j = 1\n",
    "    startChar = chr(ord('A') + i - 1)\n",
    "    while j <= i:\n",
    "        charP = chr(ord(startChar) + j - 1)\n",
    "        print(charP, end = '')\n",
    "        j += 1\n",
    "    print()\n",
    "    i += 1"
   ]
  },
  {
   "cell_type": "markdown",
   "id": "4799412d-ef15-4b21-a9e1-a6d53ea94ed1",
   "metadata": {},
   "source": [
    "##### -------------------------------------------------------------------------------------------------------------------------------------------------------------------------------"
   ]
  },
  {
   "cell_type": "markdown",
   "id": "a4528435-50cc-4a29-a8b1-fad580bd60d9",
   "metadata": {
    "tags": []
   },
   "source": [
    "##### ***Print the following pattern for the given N number of rows.***\n",
    "###### Pattern for N = 5\n",
    "###### E\n",
    "###### DE\n",
    "###### CDE\n",
    "###### BCDE\n",
    "###### ABCDE"
   ]
  },
  {
   "cell_type": "code",
   "execution_count": 32,
   "id": "ea0c45d0-4324-4cc4-9f64-635044dbca13",
   "metadata": {},
   "outputs": [
    {
     "name": "stdin",
     "output_type": "stream",
     "text": [
      " 8\n"
     ]
    },
    {
     "name": "stdout",
     "output_type": "stream",
     "text": [
      "H\n",
      "GH\n",
      "FGH\n",
      "EFGH\n",
      "DEFGH\n",
      "CDEFGH\n",
      "BCDEFGH\n",
      "ABCDEFGH\n"
     ]
    }
   ],
   "source": [
    "n = int(input())\n",
    "i = 1\n",
    "inp = chr(ord('A') + n -1)\n",
    "while i <= n:\n",
    "    j = 1\n",
    "    startChar = chr(ord(inp) - i + 1)\n",
    "    while j <= i:\n",
    "        charP = chr(ord(startChar) + j - 1)\n",
    "        print(charP, end = '')\n",
    "        j = j + 1\n",
    "    print()\n",
    "    i = i + 1"
   ]
  },
  {
   "cell_type": "markdown",
   "id": "29921dce-90e0-422d-9796-ee7eead52938",
   "metadata": {},
   "source": [
    "##### -------------------------------------------------------------------------------------------------------------------------------------------------------------------------------"
   ]
  },
  {
   "cell_type": "markdown",
   "id": "493dadfb-941d-466a-b271-15c54050e52e",
   "metadata": {
    "tags": []
   },
   "source": [
    "##### ***Print the following pattern for the given N number of rows.***\n",
    "###### Pattern for N = 4\n",
    "###### 1\n",
    "###### 11\n",
    "###### 111\n",
    "###### 1111"
   ]
  },
  {
   "cell_type": "code",
   "execution_count": 35,
   "id": "9d533624-0dea-47b1-b57f-fd55bacf6449",
   "metadata": {},
   "outputs": [
    {
     "name": "stdin",
     "output_type": "stream",
     "text": [
      " 5\n"
     ]
    },
    {
     "name": "stdout",
     "output_type": "stream",
     "text": [
      "1\n",
      "11\n",
      "111\n",
      "1111\n",
      "11111\n"
     ]
    }
   ],
   "source": [
    "n = int(input())\n",
    "i = 1\n",
    "while i <= n:\n",
    "    j = 1\n",
    "    while j <= i:\n",
    "        print('1', end = '')\n",
    "        j += 1\n",
    "    print()\n",
    "    i += 1"
   ]
  },
  {
   "cell_type": "markdown",
   "id": "e516ac19-6cdd-4189-a7ca-c251d4559868",
   "metadata": {},
   "source": [
    "##### -------------------------------------------------------------------------------------------------------------------------------------------------------------------------------"
   ]
  },
  {
   "cell_type": "markdown",
   "id": "d0ee8420-0e34-432e-9616-e14edb6576e3",
   "metadata": {},
   "source": [
    "##### ***Print the following pattern for the given N number of rows.***\n",
    "###### Pattern for N = 5\n",
    "###### 1\n",
    "###### 11\n",
    "###### 202\n",
    "###### 3003\n",
    "###### 40004"
   ]
  },
  {
   "cell_type": "code",
   "execution_count": 63,
   "id": "5cdc994f-33fb-4f9b-8b8e-cb18e4dec80f",
   "metadata": {},
   "outputs": [
    {
     "name": "stdin",
     "output_type": "stream",
     "text": [
      " 5\n"
     ]
    },
    {
     "name": "stdout",
     "output_type": "stream",
     "text": [
      "1\n",
      "11\n",
      "202\n",
      "3003\n",
      "40004\n"
     ]
    }
   ],
   "source": [
    "n = int(input())\n",
    "print('1')\n",
    "i = 2\n",
    "while i <= n:\n",
    "    j = 1\n",
    "    # start = i - 1\n",
    "    # end = i - 1\n",
    "    while j <= i:\n",
    "        if j == 1:\n",
    "            print(i - 1, end = '')\n",
    "        elif j > 1 and j < i:\n",
    "            print('0', end = '')\n",
    "        else:\n",
    "            print(i - 1, end = '')\n",
    "        j = j + 1\n",
    "        \n",
    "    print()\n",
    "    i = i + 1\n",
    "        "
   ]
  },
  {
   "cell_type": "markdown",
   "id": "f1cb5e04-ac77-4593-97f0-43c483b3902d",
   "metadata": {},
   "source": [
    "##### -------------------------------------------------------------------------------------------------------------------------------------------------------------------------------"
   ]
  },
  {
   "cell_type": "markdown",
   "id": "058c67f7-6ed1-454c-a877-7243d810e28c",
   "metadata": {},
   "source": [
    "##### ***Print the following pattern for the given N number of rows.***\n",
    "###### Pattern for N = 5\n",
    "###### 1\n",
    "###### 11\n",
    "###### 121\n",
    "###### 1221\n",
    "###### 12221"
   ]
  },
  {
   "cell_type": "code",
   "execution_count": 44,
   "id": "c2c14e4a-cc8b-46ef-84bd-c583a24e09fe",
   "metadata": {},
   "outputs": [
    {
     "name": "stdin",
     "output_type": "stream",
     "text": [
      " 5\n"
     ]
    },
    {
     "name": "stdout",
     "output_type": "stream",
     "text": [
      "1\n",
      "11\n",
      "121\n",
      "1221\n",
      "12221\n"
     ]
    }
   ],
   "source": [
    "n = int(input())\n",
    "print('1')\n",
    "i = 2\n",
    "while i <= n:\n",
    "    j = 1\n",
    "    start = i - 1\n",
    "    end = i - 1\n",
    "    while j <= i:\n",
    "        if j == 1:\n",
    "            print('1', end = '')\n",
    "        elif j > 1 and j < i:\n",
    "            print('2', end = '')\n",
    "        else:\n",
    "            print('1', end = '')\n",
    "        j = j + 1\n",
    "        \n",
    "    print()\n",
    "    i = i + 1"
   ]
  },
  {
   "cell_type": "markdown",
   "id": "17616cd5-e37c-4b01-aecd-72dbfc9d03f6",
   "metadata": {},
   "source": [
    "##### -------------------------------------------------------------------------------------------------------------------------------------------------------------------------------"
   ]
  },
  {
   "cell_type": "markdown",
   "id": "5fca53ee-c767-4c35-9ebd-285576a01853",
   "metadata": {},
   "source": [
    "##### ***Print the following pattern for the given N number of rows.***\n",
    "###### Pattern for N = 5\n",
    "###### 12345\n",
    "###### 1234\n",
    "###### 123\n",
    "###### 12\n",
    "###### 1"
   ]
  },
  {
   "cell_type": "code",
   "execution_count": 56,
   "id": "1b9c0fa5-d7aa-45e2-8245-990bf4617678",
   "metadata": {},
   "outputs": [
    {
     "name": "stdin",
     "output_type": "stream",
     "text": [
      " 5\n"
     ]
    },
    {
     "name": "stdout",
     "output_type": "stream",
     "text": [
      "12345\n",
      "1234\n",
      "123\n",
      "12\n",
      "1\n"
     ]
    }
   ],
   "source": [
    "n = int(input())\n",
    "i = 1\n",
    "while i <= n:\n",
    "    j = n\n",
    "    while j >= i:\n",
    "        print(n-j+1, end = '')\n",
    "        j = j - 1\n",
    "    print()\n",
    "    i = i + 1"
   ]
  },
  {
   "cell_type": "markdown",
   "id": "54fae994-ad42-441e-a407-b526ea64a827",
   "metadata": {},
   "source": [
    "##### -------------------------------------------------------------------------------------------------------------------------------------------------------------------------------"
   ]
  },
  {
   "cell_type": "markdown",
   "id": "238d6004-5351-4a19-9c1e-17a56b7d8bdc",
   "metadata": {},
   "source": [
    "##### ***Print the following pattern for the given N number of rows.***\n",
    "###### Pattern for N = 5\n",
    "###### A\n",
    "###### BB\n",
    "###### CCC\n",
    "###### DDDD\n",
    "###### EEEEE"
   ]
  },
  {
   "cell_type": "code",
   "execution_count": 61,
   "id": "eb414149-f8ca-4b25-9597-12a6d4efe682",
   "metadata": {},
   "outputs": [
    {
     "name": "stdin",
     "output_type": "stream",
     "text": [
      " 7\n"
     ]
    },
    {
     "name": "stdout",
     "output_type": "stream",
     "text": [
      "A\n",
      "BB\n",
      "CCC\n",
      "DDDD\n",
      "EEEEE\n",
      "FFFFFF\n",
      "GGGGGGG\n"
     ]
    }
   ],
   "source": [
    "n = int(input())\n",
    "i = 1\n",
    "while i <= n:\n",
    "    j = 1\n",
    "    startChar = chr(ord('A') + i - 1)\n",
    "    while j <= i:\n",
    "        charP = chr(ord(startChar))\n",
    "        print(charP, end = '')\n",
    "        j += 1\n",
    "    print()\n",
    "    i += 1"
   ]
  },
  {
   "cell_type": "markdown",
   "id": "aa7817c5-ee9c-41cd-b1ed-552c549c1c9f",
   "metadata": {},
   "source": [
    "##### -------------------------------------------------------------------------------------------------------------------------------------------------------------------------------"
   ]
  }
 ],
 "metadata": {
  "kernelspec": {
   "display_name": "Python 3 (ipykernel)",
   "language": "python",
   "name": "python3"
  },
  "language_info": {
   "codemirror_mode": {
    "name": "ipython",
    "version": 3
   },
   "file_extension": ".py",
   "mimetype": "text/x-python",
   "name": "python",
   "nbconvert_exporter": "python",
   "pygments_lexer": "ipython3",
   "version": "3.10.4"
  }
 },
 "nbformat": 4,
 "nbformat_minor": 5
}
